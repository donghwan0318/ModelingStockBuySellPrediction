{
  "cells": [
    {
      "cell_type": "code",
      "execution_count": 2,
      "id": "21d50d2f",
      "metadata": {
        "id": "21d50d2f"
      },
      "outputs": [],
      "source": [
        "import warnings\n",
        "warnings.filterwarnings( 'ignore' )"
      ]
    },
    {
      "cell_type": "code",
      "execution_count": 3,
      "id": "e512f224",
      "metadata": {
        "id": "e512f224"
      },
      "outputs": [],
      "source": [
        "import pandas as pd\n",
        "import numpy as np\n",
        "import os\n",
        "if os.name != 'posix':\n",
        "    plt.rc(\"font\", family=\"Malgun Gothic\")\n",
        "from sklearn.model_selection import TimeSeriesSplit\n",
        "from xgboost import XGBClassifier\n",
        "from xgboost import XGBRegressor\n",
        "from sklearn.model_selection import train_test_split\n",
        "from sklearn.metrics import f1_score\n",
        "from sklearn.metrics import multilabel_confusion_matrix\n",
        "from sklearn.metrics import confusion_matrix, accuracy_score \n",
        "from sklearn.utils import class_weight"
      ]
    },
    {
      "cell_type": "code",
      "source": [
        "from google.colab import drive\n",
        "drive.mount('/content/drive')"
      ],
      "metadata": {
        "colab": {
          "base_uri": "https://localhost:8080/"
        },
        "id": "xcVUGOKz4HhN",
        "outputId": "cb61825a-73c6-4a64-8258-af47d3eb11ed"
      },
      "id": "xcVUGOKz4HhN",
      "execution_count": 4,
      "outputs": [
        {
          "output_type": "stream",
          "name": "stdout",
          "text": [
            "Mounted at /content/drive\n"
          ]
        }
      ]
    },
    {
      "cell_type": "code",
      "execution_count": 29,
      "id": "c86813f1",
      "metadata": {
        "id": "c86813f1"
      },
      "outputs": [],
      "source": [
        "sk=pd.read_csv('/content/SK_label(5일추가).csv')"
      ]
    },
    {
      "cell_type": "code",
      "execution_count": 9,
      "id": "2c7de468",
      "metadata": {
        "id": "2c7de468"
      },
      "outputs": [],
      "source": [
        "label=pd.DataFrame()\n",
        "\n",
        "#encoding변수 추가\n",
        "label['encoding'] = sk['5일 등락률'].apply(lambda x: 1 if abs(x) < 5 else 0 if x >= 5 else 2)"
      ]
    },
    {
      "cell_type": "code",
      "execution_count": 10,
      "id": "d3e5faa3",
      "metadata": {
        "id": "d3e5faa3"
      },
      "outputs": [],
      "source": [
        "sk1=sk.shift(1) # 한 행씩 데이터 아래로 내리기\n",
        "df=pd.concat([sk1,label],axis=1)\n",
        "df=df.drop(0,axis=0)\n",
        "df=df.reset_index(drop=True)"
      ]
    },
    {
      "cell_type": "code",
      "source": [
        "df1=df.copy()"
      ],
      "metadata": {
        "id": "4feEqwNQs7F2"
      },
      "id": "4feEqwNQs7F2",
      "execution_count": 12,
      "outputs": []
    },
    {
      "cell_type": "code",
      "source": [
        "#KS검정을 통해 선택한 변수 list에 저장.\n",
        "cor_list=['등락률','종가','거래량','거래대금','시가총액','토론방','순매수_기관','순매수_기타법인','순매수_개인','순매수_외국인','검색어','보도량','기사감성점수','코스피등락률','코스피거래대금'] #3일치\n"
      ],
      "metadata": {
        "id": "tgMiP4CB0PSi"
      },
      "id": "tgMiP4CB0PSi",
      "execution_count": 14,
      "outputs": []
    },
    {
      "cell_type": "code",
      "source": [
        "#x, y 지정\n",
        "x=df1[cor_list]\n",
        "y=df1['encoding']"
      ],
      "metadata": {
        "id": "iSY2CzY8gPzi"
      },
      "id": "iSY2CzY8gPzi",
      "execution_count": 15,
      "outputs": []
    },
    {
      "cell_type": "markdown",
      "source": [
        "#분류(XGB,LGB)"
      ],
      "metadata": {
        "id": "1OuwG7ipBe8S"
      },
      "id": "1OuwG7ipBe8S"
    },
    {
      "cell_type": "code",
      "source": [
        "tscv=TimeSeriesSplit(n_splits=4) \n",
        "\n",
        "for i, (train_index, test_index) in enumerate(tscv.split(x)):\n",
        "    x_train, y_train=x.iloc[train_index], y.iloc[train_index]\n",
        "    x_test, y_test=x.iloc[test_index],y.iloc[test_index]\n",
        "    classes_weights = class_weight.compute_sample_weight(\n",
        "    class_weight='balanced',y=y_train)  #클래스 불균형 개선   \n",
        "    params = {'objective': 'multi:softmax', 'num_class': 3}\n",
        "    model = XGBClassifier(**params).fit(x_train, y_train,sample_weight=classes_weights)\n",
        "    model.fit(x_train, y_train, sample_weight=classes_weights)\n",
        "    \n",
        "    y_pred=model.predict(x_test)\n",
        "    print(f\"Fold {i+1} - accuracy: {accuracy_score(y_test, y_pred)}\")\n",
        "    print(f\"Fold {i+1} - f1_score: {f1_score(y_test,y_pred,average='weighted')}\")"
      ],
      "metadata": {
        "colab": {
          "base_uri": "https://localhost:8080/"
        },
        "id": "A-UjtG_d4nyJ",
        "outputId": "4fce6252-3fa4-40fe-82c5-e1969f0d6a0a"
      },
      "id": "A-UjtG_d4nyJ",
      "execution_count": 17,
      "outputs": [
        {
          "output_type": "stream",
          "name": "stdout",
          "text": [
            "Fold 1 - accuracy: 0.6761565836298933\n",
            "Fold 1 - f1_score: 0.6028224864545777\n",
            "Fold 2 - accuracy: 0.7402135231316725\n",
            "Fold 2 - f1_score: 0.7068984186801797\n",
            "Fold 3 - accuracy: 0.5729537366548043\n",
            "Fold 3 - f1_score: 0.6008356059694371\n",
            "Fold 4 - accuracy: 0.697508896797153\n",
            "Fold 4 - f1_score: 0.6603275239707725\n"
          ]
        }
      ]
    },
    {
      "cell_type": "code",
      "source": [
        "cm = confusion_matrix(y_test, y_pred)\n",
        "\n",
        "print(cm)\n",
        "print()\n",
        "print('전체 정확도 : ', accuracy_score(y_test, y_pred))\n",
        "print('전체 f1-score : ', f1_score(y_test, y_pred, average='weighted'))\n",
        "print()\n",
        "print('매수 정확도 : ', cm[0,0]/sum(cm[0]))\n",
        "print('매도 정확도 : ', cm[2,2]/sum(cm[2]))\n",
        "print('유지 정확도 : ', cm[1,1]/sum(cm[1]))\n",
        "print()\n",
        "print('매수 정밀도 : ', cm[0,0]/np.sum(cm, axis=0)[0])\n",
        "print('매도 정밀도 : ', cm[2,2]/np.sum(cm, axis=0)[2])"
      ],
      "metadata": {
        "colab": {
          "base_uri": "https://localhost:8080/"
        },
        "id": "Vb8lzxW6tut1",
        "outputId": "e135a7ed-019c-4f27-a2be-7e6bdbb8fba4"
      },
      "id": "Vb8lzxW6tut1",
      "execution_count": 20,
      "outputs": [
        {
          "output_type": "stream",
          "name": "stdout",
          "text": [
            "[[  6  31   0]\n",
            " [ 10 177  11]\n",
            " [  2  31  13]]\n",
            "\n",
            "전체 정확도 :  0.697508896797153\n",
            "전체 f1-score :  0.6603275239707725\n",
            "\n",
            "매수 정확도 :  0.16216216216216217\n",
            "매도 정확도 :  0.2826086956521739\n",
            "유지 정확도 :  0.8939393939393939\n",
            "\n",
            "매수 정밀도 :  0.3333333333333333\n",
            "매도 정밀도 :  0.5416666666666666\n"
          ]
        }
      ]
    },
    {
      "cell_type": "code",
      "source": [
        "!pip install optuna"
      ],
      "metadata": {
        "id": "cvYxe4Io5Qp8",
        "colab": {
          "base_uri": "https://localhost:8080/"
        },
        "outputId": "9aa6bd16-7f37-47c0-fa50-bc34cb5a7f1c"
      },
      "id": "cvYxe4Io5Qp8",
      "execution_count": 21,
      "outputs": [
        {
          "output_type": "stream",
          "name": "stdout",
          "text": [
            "Looking in indexes: https://pypi.org/simple, https://us-python.pkg.dev/colab-wheels/public/simple/\n",
            "Collecting optuna\n",
            "  Downloading optuna-3.1.1-py3-none-any.whl (365 kB)\n",
            "\u001b[2K     \u001b[90m━━━━━━━━━━━━━━━━━━━━━━━━━━━━━━━━━━━━━━\u001b[0m \u001b[32m365.7/365.7 kB\u001b[0m \u001b[31m28.8 MB/s\u001b[0m eta \u001b[36m0:00:00\u001b[0m\n",
            "\u001b[?25hRequirement already satisfied: PyYAML in /usr/local/lib/python3.10/dist-packages (from optuna) (6.0)\n",
            "Requirement already satisfied: numpy in /usr/local/lib/python3.10/dist-packages (from optuna) (1.22.4)\n",
            "Requirement already satisfied: sqlalchemy>=1.3.0 in /usr/local/lib/python3.10/dist-packages (from optuna) (2.0.10)\n",
            "Requirement already satisfied: tqdm in /usr/local/lib/python3.10/dist-packages (from optuna) (4.65.0)\n",
            "Collecting alembic>=1.5.0\n",
            "  Downloading alembic-1.10.4-py3-none-any.whl (212 kB)\n",
            "\u001b[2K     \u001b[90m━━━━━━━━━━━━━━━━━━━━━━━━━━━━━━━━━━━━━━\u001b[0m \u001b[32m212.9/212.9 kB\u001b[0m \u001b[31m25.0 MB/s\u001b[0m eta \u001b[36m0:00:00\u001b[0m\n",
            "\u001b[?25hRequirement already satisfied: packaging>=20.0 in /usr/local/lib/python3.10/dist-packages (from optuna) (23.1)\n",
            "Collecting colorlog\n",
            "  Downloading colorlog-6.7.0-py2.py3-none-any.whl (11 kB)\n",
            "Collecting cmaes>=0.9.1\n",
            "  Downloading cmaes-0.9.1-py3-none-any.whl (21 kB)\n",
            "Requirement already satisfied: typing-extensions>=4 in /usr/local/lib/python3.10/dist-packages (from alembic>=1.5.0->optuna) (4.5.0)\n",
            "Collecting Mako\n",
            "  Downloading Mako-1.2.4-py3-none-any.whl (78 kB)\n",
            "\u001b[2K     \u001b[90m━━━━━━━━━━━━━━━━━━━━━━━━━━━━━━━━━━━━━━━━\u001b[0m \u001b[32m78.7/78.7 kB\u001b[0m \u001b[31m11.2 MB/s\u001b[0m eta \u001b[36m0:00:00\u001b[0m\n",
            "\u001b[?25hRequirement already satisfied: greenlet!=0.4.17 in /usr/local/lib/python3.10/dist-packages (from sqlalchemy>=1.3.0->optuna) (2.0.2)\n",
            "Requirement already satisfied: MarkupSafe>=0.9.2 in /usr/local/lib/python3.10/dist-packages (from Mako->alembic>=1.5.0->optuna) (2.1.2)\n",
            "Installing collected packages: Mako, colorlog, cmaes, alembic, optuna\n",
            "Successfully installed Mako-1.2.4 alembic-1.10.4 cmaes-0.9.1 colorlog-6.7.0 optuna-3.1.1\n"
          ]
        }
      ]
    },
    {
      "cell_type": "markdown",
      "source": [
        "#optuna"
      ],
      "metadata": {
        "id": "nIVz0oO177V9"
      },
      "id": "nIVz0oO177V9"
    },
    {
      "cell_type": "code",
      "source": [
        "import optuna\n",
        "from sklearn.metrics import f1_score\n",
        "import xgboost as xgb\n",
        "from xgboost import XGBClassifier\n",
        "from sklearn.model_selection import TimeSeriesSplit\n",
        "\n",
        "tscv = TimeSeriesSplit(n_splits=5)\n",
        "\n",
        "def objective(trial):\n",
        "    param={\n",
        "        'max_depth': trial.suggest_int('max_depth', 1, 20),\n",
        "        'learning_rate': trial.suggest_loguniform('learning_rate', 0.001, 1.0),\n",
        "        'n_estimators': trial.suggest_int('n_estimators', 10, 1000),\n",
        "        'min_child_weight': trial.suggest_int('min_child_weight', 1, 10),\n",
        "        'gamma': trial.suggest_loguniform('gamma', 1e-8, 1.0),\n",
        "        'subsample': trial.suggest_loguniform('subsample', 1e-8, 1.0),\n",
        "        'colsample_bytree': trial.suggest_loguniform('colsample_bytree', 1e-8, 1.0),\n",
        "        'reg_alpha': trial.suggest_loguniform('reg_alpha', 1e-8, 1.0),\n",
        "        'reg_lambda': trial.suggest_loguniform('reg_lambda', 1e-8, 1.0)\n",
        "    } #optuna를 위한 파라미터 지정\n",
        "\n",
        "    scores = [] #f1 score 저장 리스트 생성\n",
        "    for i, (train_index, test_index) in enumerate(tscv.split(x)):\n",
        "        x_train, y_train = x.iloc[train_index],y.iloc[train_index] #train data 지정\n",
        "        x_test, y_test = x.iloc[test_index],y.iloc[test_index] # test data 지정\n",
        "\n",
        "        classes_weights = class_weight.compute_sample_weight(class_weight='balanced',y=y_train) #클래스 불균형 개선  \n",
        "\n",
        "        xgb_model = xgb.XGBClassifier(**param, random_state = 42)\n",
        "        xgb_model.fit(x_train, y_train,sample_weight=classes_weights)\n",
        "        \n",
        "        y_pred = xgb_model.predict(x_test) #예측 \n",
        "        score = f1_score(y_test, y_pred, average='weighted')\n",
        "        scores.append(score)\n",
        "    \n",
        "    \n",
        "    cm = confusion_matrix(y_test, y_pred)\n",
        "    bacc = cm[0,0]/sum(cm[0]) #매수 정확도\n",
        "    sacc = cm[2,2]/sum(cm[2]) #매도 정확도\n",
        "\n",
        "    if np.sum(cm, axis=0)[0] == 0: #매수 정밀도\n",
        "        bpre = 0\n",
        "    else:\n",
        "        bpre = cm[0,0]/np.sum(cm, axis=0)[0]\n",
        "\n",
        "    if np.sum(cm, axis=0)[2] == 0: #매도 정밀도\n",
        "        spre = 0\n",
        "    else:\n",
        "        spre = cm[2,2]/np.sum(cm, axis=0)[2]\n",
        "\n",
        "    rst = np.mean([bacc, sacc, bpre, spre]) #매수 정확도, 매도 정확도, 매수 정밀도, 매도 정밀도 평균 저장 \n",
        "\n",
        "\n",
        "    return rst"
      ],
      "metadata": {
        "id": "IXMCf7eC76hg"
      },
      "id": "IXMCf7eC76hg",
      "execution_count": 24,
      "outputs": []
    },
    {
      "cell_type": "code",
      "source": [
        "study = optuna.create_study(direction='maximize')\n",
        "study.optimize(objective, n_trials=200)"
      ],
      "metadata": {
        "colab": {
          "base_uri": "https://localhost:8080/"
        },
        "id": "K-4-4ngV76kU",
        "outputId": "653b1b5d-6ab9-4206-d35c-25323ebb6490"
      },
      "id": "K-4-4ngV76kU",
      "execution_count": 25,
      "outputs": [
        {
          "output_type": "stream",
          "name": "stderr",
          "text": [
            "\u001b[32m[I 2023-05-09 07:49:01,805]\u001b[0m A new study created in memory with name: no-name-5ca4c5f5-88c5-493b-acd1-6998605634ce\u001b[0m\n",
            "\u001b[32m[I 2023-05-09 07:49:02,166]\u001b[0m Trial 0 finished with value: 0.2841880341880342 and parameters: {'max_depth': 12, 'learning_rate': 0.23079709498704343, 'n_estimators': 101, 'min_child_weight': 2, 'gamma': 2.2421546311921226e-05, 'subsample': 0.0010917929604104463, 'colsample_bytree': 8.05118441584842e-05, 'reg_alpha': 1.8334232362930453e-06, 'reg_lambda': 3.8300078060441575e-08}. Best is trial 0 with value: 0.2841880341880342.\u001b[0m\n",
            "\u001b[32m[I 2023-05-09 07:49:07,488]\u001b[0m Trial 1 finished with value: 0.41010491338112304 and parameters: {'max_depth': 5, 'learning_rate': 0.0035399164930560666, 'n_estimators': 452, 'min_child_weight': 3, 'gamma': 8.550210148225183e-07, 'subsample': 0.37299953788308793, 'colsample_bytree': 1.6882455906544496e-06, 'reg_alpha': 0.02812156598259018, 'reg_lambda': 3.4081544894954983e-07}. Best is trial 1 with value: 0.41010491338112304.\u001b[0m\n",
            "\u001b[32m[I 2023-05-09 07:49:09,072]\u001b[0m Trial 2 finished with value: 0.2916666666666667 and parameters: {'max_depth': 15, 'learning_rate': 0.0067770270578732415, 'n_estimators': 534, 'min_child_weight': 1, 'gamma': 3.3803926283181794e-08, 'subsample': 1.0378238288379788e-05, 'colsample_bytree': 1.010443131091108e-05, 'reg_alpha': 0.16199779377281576, 'reg_lambda': 3.1893414236531515e-08}. Best is trial 1 with value: 0.41010491338112304.\u001b[0m\n",
            "\u001b[32m[I 2023-05-09 07:49:11,402]\u001b[0m Trial 3 finished with value: 0.2841880341880342 and parameters: {'max_depth': 3, 'learning_rate': 0.1261900635819544, 'n_estimators': 831, 'min_child_weight': 6, 'gamma': 0.017197611701849032, 'subsample': 1.6155423333891983e-05, 'colsample_bytree': 8.116862744838423e-06, 'reg_alpha': 0.05055790352951707, 'reg_lambda': 0.9734548106858488}. Best is trial 1 with value: 0.41010491338112304.\u001b[0m\n",
            "\u001b[32m[I 2023-05-09 07:49:11,597]\u001b[0m Trial 4 finished with value: 0.2841880341880342 and parameters: {'max_depth': 2, 'learning_rate': 0.9252333795666833, 'n_estimators': 53, 'min_child_weight': 5, 'gamma': 0.0007923074715271585, 'subsample': 9.37298405569421e-07, 'colsample_bytree': 4.553316150073385e-06, 'reg_alpha': 0.40309891289864064, 'reg_lambda': 2.3920392112989562e-06}. Best is trial 1 with value: 0.41010491338112304.\u001b[0m\n",
            "\u001b[32m[I 2023-05-09 07:49:11,895]\u001b[0m Trial 5 finished with value: 0.45971949983537064 and parameters: {'max_depth': 6, 'learning_rate': 0.0016274953736976243, 'n_estimators': 93, 'min_child_weight': 1, 'gamma': 5.0029459913846134e-05, 'subsample': 0.0013869649476528306, 'colsample_bytree': 0.005062482773682736, 'reg_alpha': 1.128344798714921e-06, 'reg_lambda': 1.468118173952682e-08}. Best is trial 5 with value: 0.45971949983537064.\u001b[0m\n",
            "\u001b[32m[I 2023-05-09 07:49:12,011]\u001b[0m Trial 6 finished with value: 0.2841880341880342 and parameters: {'max_depth': 10, 'learning_rate': 0.003419108982886454, 'n_estimators': 24, 'min_child_weight': 2, 'gamma': 1.3350188738677776e-05, 'subsample': 6.884478477194564e-08, 'colsample_bytree': 1.6582934723581076e-06, 'reg_alpha': 6.8273951256346175e-06, 'reg_lambda': 0.006128861156985423}. Best is trial 5 with value: 0.45971949983537064.\u001b[0m\n",
            "\u001b[32m[I 2023-05-09 07:49:13,857]\u001b[0m Trial 7 finished with value: 0.2841880341880342 and parameters: {'max_depth': 10, 'learning_rate': 0.05858583990866408, 'n_estimators': 619, 'min_child_weight': 6, 'gamma': 0.0044887007974947464, 'subsample': 0.0004122840406033733, 'colsample_bytree': 2.6810189446938573e-08, 'reg_alpha': 2.882659737836397e-08, 'reg_lambda': 0.00157333530723044}. Best is trial 5 with value: 0.45971949983537064.\u001b[0m\n",
            "\u001b[32m[I 2023-05-09 07:49:16,441]\u001b[0m Trial 8 finished with value: 0.2841880341880342 and parameters: {'max_depth': 9, 'learning_rate': 0.05683422038988502, 'n_estimators': 894, 'min_child_weight': 10, 'gamma': 1.2102018374674934e-05, 'subsample': 0.0006404491548550679, 'colsample_bytree': 3.2872098336811053e-07, 'reg_alpha': 0.00635358976563665, 'reg_lambda': 0.8439295727052804}. Best is trial 5 with value: 0.45971949983537064.\u001b[0m\n",
            "\u001b[32m[I 2023-05-09 07:49:20,325]\u001b[0m Trial 9 finished with value: 0.2841880341880342 and parameters: {'max_depth': 12, 'learning_rate': 0.6113693835175625, 'n_estimators': 422, 'min_child_weight': 8, 'gamma': 5.820181349383476e-05, 'subsample': 3.927757500426293e-06, 'colsample_bytree': 2.8827787258525564e-06, 'reg_alpha': 0.01841702080842229, 'reg_lambda': 0.6614527085017944}. Best is trial 5 with value: 0.45971949983537064.\u001b[0m\n",
            "\u001b[32m[I 2023-05-09 07:49:21,188]\u001b[0m Trial 10 finished with value: 0.35252403846153846 and parameters: {'max_depth': 20, 'learning_rate': 0.001163961838177663, 'n_estimators': 240, 'min_child_weight': 4, 'gamma': 0.29003565524462904, 'subsample': 0.03348953044692118, 'colsample_bytree': 0.027538919437864465, 'reg_alpha': 0.00035038220947426264, 'reg_lambda': 7.957689627080629e-06}. Best is trial 5 with value: 0.45971949983537064.\u001b[0m\n",
            "\u001b[32m[I 2023-05-09 07:49:23,447]\u001b[0m Trial 11 finished with value: 0.35942234848484844 and parameters: {'max_depth': 5, 'learning_rate': 0.015264181742322276, 'n_estimators': 315, 'min_child_weight': 3, 'gamma': 3.7927521384062074e-07, 'subsample': 0.982762674724194, 'colsample_bytree': 0.004934829713082464, 'reg_alpha': 0.00015824837689601298, 'reg_lambda': 1.0784356675841315e-08}. Best is trial 5 with value: 0.45971949983537064.\u001b[0m\n",
            "\u001b[32m[I 2023-05-09 07:49:26,667]\u001b[0m Trial 12 finished with value: 0.4451121794871795 and parameters: {'max_depth': 6, 'learning_rate': 0.0011166440822556224, 'n_estimators': 653, 'min_child_weight': 1, 'gamma': 5.346975943018918e-07, 'subsample': 0.02188239447059487, 'colsample_bytree': 0.3328504752103073, 'reg_alpha': 0.0019975663078324393, 'reg_lambda': 4.239427504944601e-07}. Best is trial 5 with value: 0.45971949983537064.\u001b[0m\n",
            "\u001b[32m[I 2023-05-09 07:49:29,041]\u001b[0m Trial 13 finished with value: 0.26282051282051283 and parameters: {'max_depth': 7, 'learning_rate': 0.0011108210883038155, 'n_estimators': 700, 'min_child_weight': 1, 'gamma': 1.062228692455297e-08, 'subsample': 0.007295835072606117, 'colsample_bytree': 0.4288799047222681, 'reg_alpha': 0.0009388298816838012, 'reg_lambda': 3.0641979617232193e-07}. Best is trial 5 with value: 0.45971949983537064.\u001b[0m\n",
            "\u001b[32m[I 2023-05-09 07:49:33,975]\u001b[0m Trial 14 finished with value: 0.26282051282051283 and parameters: {'max_depth': 1, 'learning_rate': 0.0010063216094495545, 'n_estimators': 742, 'min_child_weight': 1, 'gamma': 1.5183345528296869e-06, 'subsample': 0.011545190266549958, 'colsample_bytree': 0.0018796338982793978, 'reg_alpha': 1.3392674662599966e-05, 'reg_lambda': 2.2286979884860044e-05}. Best is trial 5 with value: 0.45971949983537064.\u001b[0m\n",
            "\u001b[32m[I 2023-05-09 07:49:34,731]\u001b[0m Trial 15 finished with value: 0.2841880341880342 and parameters: {'max_depth': 6, 'learning_rate': 0.014532752514947785, 'n_estimators': 226, 'min_child_weight': 4, 'gamma': 0.00044795848469054457, 'subsample': 0.00010183974821476583, 'colsample_bytree': 0.4111096612873117, 'reg_alpha': 2.415218656360141e-07, 'reg_lambda': 3.9511630418068096e-07}. Best is trial 5 with value: 0.45971949983537064.\u001b[0m\n",
            "\u001b[32m[I 2023-05-09 07:49:37,576]\u001b[0m Trial 16 finished with value: 0.43095619658119655 and parameters: {'max_depth': 8, 'learning_rate': 0.003086560202145444, 'n_estimators': 942, 'min_child_weight': 8, 'gamma': 2.0017382076439402e-07, 'subsample': 0.03152372723582262, 'colsample_bytree': 0.046988365285265336, 'reg_alpha': 2.4042547480274123e-05, 'reg_lambda': 1.4073675791392994e-08}. Best is trial 5 with value: 0.45971949983537064.\u001b[0m\n",
            "\u001b[32m[I 2023-05-09 07:49:39,260]\u001b[0m Trial 17 finished with value: 0.2916666666666667 and parameters: {'max_depth': 15, 'learning_rate': 0.002138716713648556, 'n_estimators': 564, 'min_child_weight': 2, 'gamma': 3.6036974869132822e-06, 'subsample': 0.0037132670106550074, 'colsample_bytree': 0.001212722713318519, 'reg_alpha': 0.002128382013889869, 'reg_lambda': 1.588294200242441e-07}. Best is trial 5 with value: 0.45971949983537064.\u001b[0m\n",
            "\u001b[32m[I 2023-05-09 07:49:40,918]\u001b[0m Trial 18 finished with value: 0.44080205748552526 and parameters: {'max_depth': 4, 'learning_rate': 0.007564549388494585, 'n_estimators': 341, 'min_child_weight': 3, 'gamma': 0.0001665060148204088, 'subsample': 0.15065706232284273, 'colsample_bytree': 0.04515926122557642, 'reg_alpha': 9.434402643277089e-05, 'reg_lambda': 2.180097849207769e-06}. Best is trial 5 with value: 0.45971949983537064.\u001b[0m\n",
            "\u001b[32m[I 2023-05-09 07:49:47,195]\u001b[0m Trial 19 finished with value: 0.5224541083916083 and parameters: {'max_depth': 7, 'learning_rate': 0.005634808567040752, 'n_estimators': 667, 'min_child_weight': 7, 'gamma': 1.3741895329676925e-07, 'subsample': 0.0807375359214062, 'colsample_bytree': 0.9624443669046081, 'reg_alpha': 1.524383772020227e-06, 'reg_lambda': 1.0560932230542439e-07}. Best is trial 19 with value: 0.5224541083916083.\u001b[0m\n",
            "\u001b[32m[I 2023-05-09 07:49:49,946]\u001b[0m Trial 20 finished with value: 0.5433519510504693 and parameters: {'max_depth': 14, 'learning_rate': 0.007311611802537685, 'n_estimators': 798, 'min_child_weight': 8, 'gamma': 8.673161002437916e-08, 'subsample': 0.07614056807465991, 'colsample_bytree': 8.148425720656717e-05, 'reg_alpha': 8.658975190305845e-07, 'reg_lambda': 8.012308818756908e-08}. Best is trial 20 with value: 0.5433519510504693.\u001b[0m\n",
            "\u001b[32m[I 2023-05-09 07:49:53,513]\u001b[0m Trial 21 finished with value: 0.464574809056192 and parameters: {'max_depth': 15, 'learning_rate': 0.007099384230218622, 'n_estimators': 784, 'min_child_weight': 8, 'gamma': 6.713827462479439e-08, 'subsample': 0.12554046438908834, 'colsample_bytree': 0.0002539853467317965, 'reg_alpha': 7.576560807361751e-07, 'reg_lambda': 6.351182266340971e-08}. Best is trial 20 with value: 0.5433519510504693.\u001b[0m\n",
            "\u001b[32m[I 2023-05-09 07:49:59,508]\u001b[0m Trial 22 finished with value: 0.43576957174031644 and parameters: {'max_depth': 16, 'learning_rate': 0.008360006386594501, 'n_estimators': 780, 'min_child_weight': 8, 'gamma': 7.611648019353968e-08, 'subsample': 0.14212456365568713, 'colsample_bytree': 7.126033992882334e-05, 'reg_alpha': 1.2288838389481404e-07, 'reg_lambda': 6.658029912773284e-08}. Best is trial 20 with value: 0.5433519510504693.\u001b[0m\n",
            "\u001b[32m[I 2023-05-09 07:50:05,811]\u001b[0m Trial 23 finished with value: 0.33092948717948717 and parameters: {'max_depth': 18, 'learning_rate': 0.020381053530617546, 'n_estimators': 849, 'min_child_weight': 9, 'gamma': 1.0387228064171053e-08, 'subsample': 0.6882508800377882, 'colsample_bytree': 0.0003937265525175102, 'reg_alpha': 6.819097651256161e-07, 'reg_lambda': 6.981207478341975e-08}. Best is trial 20 with value: 0.5433519510504693.\u001b[0m\n",
            "\u001b[32m[I 2023-05-09 07:50:12,427]\u001b[0m Trial 24 finished with value: 0.48992214181167676 and parameters: {'max_depth': 13, 'learning_rate': 0.005795955903704991, 'n_estimators': 994, 'min_child_weight': 7, 'gamma': 9.111405466268942e-08, 'subsample': 0.07547281365074289, 'colsample_bytree': 9.573238368283904e-05, 'reg_alpha': 1.1116441194473684e-08, 'reg_lambda': 1.5875352176933932e-06}. Best is trial 20 with value: 0.5433519510504693.\u001b[0m\n",
            "\u001b[32m[I 2023-05-09 07:50:15,824]\u001b[0m Trial 25 finished with value: 0.5120459401709402 and parameters: {'max_depth': 12, 'learning_rate': 0.004494481055048927, 'n_estimators': 969, 'min_child_weight': 7, 'gamma': 1.756757595709905e-07, 'subsample': 0.06985691822869251, 'colsample_bytree': 4.0817981642578536e-05, 'reg_alpha': 1.4642876302697424e-08, 'reg_lambda': 1.5914556367287576e-06}. Best is trial 20 with value: 0.5433519510504693.\u001b[0m\n",
            "\u001b[32m[I 2023-05-09 07:50:18,470]\u001b[0m Trial 26 finished with value: 0.2916666666666667 and parameters: {'max_depth': 13, 'learning_rate': 0.0041546139195434584, 'n_estimators': 930, 'min_child_weight': 7, 'gamma': 2.8020492419908988e-06, 'subsample': 0.004798351728782295, 'colsample_bytree': 3.914444890618392e-05, 'reg_alpha': 7.443704232856865e-08, 'reg_lambda': 1.3702269324180678e-06}. Best is trial 20 with value: 0.5433519510504693.\u001b[0m\n",
            "\u001b[32m[I 2023-05-09 07:50:21,326]\u001b[0m Trial 27 finished with value: 0.47802366138763197 and parameters: {'max_depth': 17, 'learning_rate': 0.01124289898187251, 'n_estimators': 993, 'min_child_weight': 10, 'gamma': 3.7696400730600885e-07, 'subsample': 0.03989511801760716, 'colsample_bytree': 1.8549955076147012e-05, 'reg_alpha': 1.539256774034899e-08, 'reg_lambda': 1.609072182955908e-05}. Best is trial 20 with value: 0.5433519510504693.\u001b[0m\n",
            "\u001b[32m[I 2023-05-09 07:50:27,927]\u001b[0m Trial 28 finished with value: 0.37805002794299625 and parameters: {'max_depth': 11, 'learning_rate': 0.023519559965766372, 'n_estimators': 676, 'min_child_weight': 7, 'gamma': 1.8263287200285678e-07, 'subsample': 0.32465165909751265, 'colsample_bytree': 0.0003340187076864033, 'reg_alpha': 8.469102564345484e-08, 'reg_lambda': 1.5225312093236389e-07}. Best is trial 20 with value: 0.5433519510504693.\u001b[0m\n",
            "\u001b[32m[I 2023-05-09 07:50:30,458]\u001b[0m Trial 29 finished with value: 0.2841880341880342 and parameters: {'max_depth': 13, 'learning_rate': 0.0023741884434618507, 'n_estimators': 879, 'min_child_weight': 9, 'gamma': 4.382345603105971e-06, 'subsample': 0.002631956939239555, 'colsample_bytree': 3.993110499405305e-05, 'reg_alpha': 3.245201468935524e-06, 'reg_lambda': 4.5070629651841356e-08}. Best is trial 20 with value: 0.5433519510504693.\u001b[0m\n",
            "\u001b[32m[I 2023-05-09 07:50:32,166]\u001b[0m Trial 30 finished with value: 0.2916666666666667 and parameters: {'max_depth': 8, 'learning_rate': 0.005306018921308942, 'n_estimators': 594, 'min_child_weight': 6, 'gamma': 2.938618483048678e-08, 'subsample': 0.0095843959777451, 'colsample_bytree': 0.00012535626952225038, 'reg_alpha': 2.221215327056931e-06, 'reg_lambda': 1.1090276601387587e-06}. Best is trial 20 with value: 0.5433519510504693.\u001b[0m\n",
            "\u001b[32m[I 2023-05-09 07:50:38,215]\u001b[0m Trial 31 finished with value: 0.5058698796122577 and parameters: {'max_depth': 13, 'learning_rate': 0.004781080706141138, 'n_estimators': 968, 'min_child_weight': 7, 'gamma': 1.0988576763327248e-07, 'subsample': 0.07347563588600353, 'colsample_bytree': 0.00012950003749885206, 'reg_alpha': 1.79258485549087e-08, 'reg_lambda': 4.395327072536717e-06}. Best is trial 20 with value: 0.5433519510504693.\u001b[0m\n",
            "\u001b[32m[I 2023-05-09 07:50:43,105]\u001b[0m Trial 32 finished with value: 0.39002403846153844 and parameters: {'max_depth': 12, 'learning_rate': 0.003899622602040126, 'n_estimators': 812, 'min_child_weight': 7, 'gamma': 1.2052110654809512e-06, 'subsample': 0.29055528043134227, 'colsample_bytree': 2.062929006035827e-05, 'reg_alpha': 4.021957961130765e-08, 'reg_lambda': 6.086896341949883e-07}. Best is trial 20 with value: 0.5433519510504693.\u001b[0m\n",
            "\u001b[32m[I 2023-05-09 07:50:46,102]\u001b[0m Trial 33 finished with value: 0.5219307413600892 and parameters: {'max_depth': 14, 'learning_rate': 0.010703143008674521, 'n_estimators': 728, 'min_child_weight': 9, 'gamma': 7.443869083858733e-07, 'subsample': 0.07119298862507639, 'colsample_bytree': 0.9560305177665677, 'reg_alpha': 3.825354390019068e-07, 'reg_lambda': 4.650120714263195e-06}. Best is trial 20 with value: 0.5433519510504693.\u001b[0m\n",
            "\u001b[32m[I 2023-05-09 07:50:59,481]\u001b[0m Trial 34 finished with value: 0.4012733738036157 and parameters: {'max_depth': 14, 'learning_rate': 0.009867860344237643, 'n_estimators': 719, 'min_child_weight': 9, 'gamma': 6.986707132278579e-07, 'subsample': 0.46225959641368836, 'colsample_bytree': 0.9227877159152207, 'reg_alpha': 4.039596924352592e-07, 'reg_lambda': 1.2003213455772411e-07}. Best is trial 20 with value: 0.5433519510504693.\u001b[0m\n",
            "\u001b[32m[I 2023-05-09 07:51:02,861]\u001b[0m Trial 35 finished with value: 0.5107532309628546 and parameters: {'max_depth': 11, 'learning_rate': 0.010157540848306787, 'n_estimators': 531, 'min_child_weight': 9, 'gamma': 2.564633460556109e-07, 'subsample': 0.02601882629245771, 'colsample_bytree': 0.20437014132022624, 'reg_alpha': 1.4867608824236858e-07, 'reg_lambda': 4.822652651068692e-07}. Best is trial 20 with value: 0.5433519510504693.\u001b[0m\n",
            "\u001b[32m[I 2023-05-09 07:51:06,733]\u001b[0m Trial 36 finished with value: 0.38378267973856206 and parameters: {'max_depth': 18, 'learning_rate': 0.005815904317199447, 'n_estimators': 485, 'min_child_weight': 5, 'gamma': 2.859750132551621e-08, 'subsample': 0.25385600042614725, 'colsample_bytree': 0.017936762614431428, 'reg_alpha': 3.2079351319063036e-07, 'reg_lambda': 5.3598439610004435e-06}. Best is trial 20 with value: 0.5433519510504693.\u001b[0m\n",
            "\u001b[32m[I 2023-05-09 07:51:08,958]\u001b[0m Trial 37 finished with value: 0.2916666666666667 and parameters: {'max_depth': 9, 'learning_rate': 0.0029793486968457917, 'n_estimators': 761, 'min_child_weight': 6, 'gamma': 8.925072815225078e-07, 'subsample': 0.01371981120393657, 'colsample_bytree': 0.07064603729946124, 'reg_alpha': 2.046167315191655e-06, 'reg_lambda': 3.021586749898673e-08}. Best is trial 20 with value: 0.5433519510504693.\u001b[0m\n",
            "\u001b[32m[I 2023-05-09 07:51:11,849]\u001b[0m Trial 38 finished with value: 0.49200307794057796 and parameters: {'max_depth': 15, 'learning_rate': 0.03371906888157606, 'n_estimators': 864, 'min_child_weight': 8, 'gamma': 4.013541049981024e-08, 'subsample': 0.06815083123216535, 'colsample_bytree': 0.13801393136000253, 'reg_alpha': 2.6863523892060706e-07, 'reg_lambda': 2.002432878369076e-07}. Best is trial 20 with value: 0.5433519510504693.\u001b[0m\n",
            "\u001b[32m[I 2023-05-09 07:51:13,723]\u001b[0m Trial 39 finished with value: 0.2841880341880342 and parameters: {'max_depth': 12, 'learning_rate': 0.0019069385529838542, 'n_estimators': 650, 'min_child_weight': 10, 'gamma': 9.609293457908709e-06, 'subsample': 0.0013273762443944696, 'colsample_bytree': 0.01143618252297193, 'reg_alpha': 4.82157411130272e-08, 'reg_lambda': 7.506809580094399e-07}. Best is trial 20 with value: 0.5433519510504693.\u001b[0m\n",
            "\u001b[32m[I 2023-05-09 07:51:44,962]\u001b[0m Trial 40 finished with value: 0.37554632867132864 and parameters: {'max_depth': 14, 'learning_rate': 0.013401680175016015, 'n_estimators': 912, 'min_child_weight': 5, 'gamma': 1.8673544071753423e-07, 'subsample': 0.7999558609224612, 'colsample_bytree': 0.9757091136585275, 'reg_alpha': 9.179629421171763e-07, 'reg_lambda': 6.112616028712705e-05}. Best is trial 20 with value: 0.5433519510504693.\u001b[0m\n",
            "\u001b[32m[I 2023-05-09 07:51:46,524]\u001b[0m Trial 41 finished with value: 0.2916666666666667 and parameters: {'max_depth': 11, 'learning_rate': 0.009986779370144742, 'n_estimators': 517, 'min_child_weight': 9, 'gamma': 2.342009663862262e-07, 'subsample': 0.021724583302860794, 'colsample_bytree': 0.15580563672422437, 'reg_alpha': 1.4939720101845855e-07, 'reg_lambda': 7.899661228544779e-07}. Best is trial 20 with value: 0.5433519510504693.\u001b[0m\n",
            "\u001b[32m[I 2023-05-09 07:51:48,571]\u001b[0m Trial 42 finished with value: 0.49908997252747256 and parameters: {'max_depth': 10, 'learning_rate': 0.007592706735968752, 'n_estimators': 608, 'min_child_weight': 9, 'gamma': 1.6801085352446944e-06, 'subsample': 0.05506176359506452, 'colsample_bytree': 0.21425204580359328, 'reg_alpha': 4.5072870493090404e-08, 'reg_lambda': 2.8523303265682794e-06}. Best is trial 20 with value: 0.5433519510504693.\u001b[0m\n",
            "\u001b[32m[I 2023-05-09 07:51:51,245]\u001b[0m Trial 43 finished with value: 0.4071771978021978 and parameters: {'max_depth': 9, 'learning_rate': 0.004097462217793551, 'n_estimators': 555, 'min_child_weight': 8, 'gamma': 3.3488280080323873e-07, 'subsample': 0.18064987827436646, 'colsample_bytree': 0.07341985936406455, 'reg_alpha': 1.2848494615254838e-07, 'reg_lambda': 2.7789923496509737e-07}. Best is trial 20 with value: 0.5433519510504693.\u001b[0m\n",
            "\u001b[32m[I 2023-05-09 07:51:52,737]\u001b[0m Trial 44 finished with value: 0.2916666666666667 and parameters: {'max_depth': 11, 'learning_rate': 0.010498554066511939, 'n_estimators': 483, 'min_child_weight': 10, 'gamma': 9.278444169987534e-07, 'subsample': 0.013754446840178182, 'colsample_bytree': 0.5325660208235311, 'reg_alpha': 4.954516786011721e-06, 'reg_lambda': 3.5556942624242126e-08}. Best is trial 20 with value: 0.5433519510504693.\u001b[0m\n",
            "\u001b[32m[I 2023-05-09 07:51:56,633]\u001b[0m Trial 45 finished with value: 0.2841880341880342 and parameters: {'max_depth': 14, 'learning_rate': 0.006074554967156885, 'n_estimators': 419, 'min_child_weight': 9, 'gamma': 4.076564387383059e-08, 'subsample': 0.002485005280118166, 'colsample_bytree': 0.13101844765921514, 'reg_alpha': 1.0600225386736665e-06, 'reg_lambda': 4.995890242570032e-07}. Best is trial 20 with value: 0.5433519510504693.\u001b[0m\n",
            "\u001b[32m[I 2023-05-09 07:51:59,223]\u001b[0m Trial 46 finished with value: 0.4704618298368298 and parameters: {'max_depth': 16, 'learning_rate': 0.0025980419112735607, 'n_estimators': 826, 'min_child_weight': 8, 'gamma': 5.034137157708302e-07, 'subsample': 0.032756026766460784, 'colsample_bytree': 0.30004923517196835, 'reg_alpha': 3.114549042813811e-08, 'reg_lambda': 9.22384658040642e-06}. Best is trial 20 with value: 0.5433519510504693.\u001b[0m\n",
            "\u001b[32m[I 2023-05-09 07:52:02,823]\u001b[0m Trial 47 finished with value: 0.4978235446985446 and parameters: {'max_depth': 12, 'learning_rate': 0.016495628793219395, 'n_estimators': 715, 'min_child_weight': 7, 'gamma': 1.2863856737860656e-07, 'subsample': 0.0902165061549337, 'colsample_bytree': 0.9637710625368553, 'reg_alpha': 5.25041097604876e-07, 'reg_lambda': 1.6314516478733276e-06}. Best is trial 20 with value: 0.5433519510504693.\u001b[0m\n",
            "\u001b[32m[I 2023-05-09 07:52:04,734]\u001b[0m Trial 48 finished with value: 0.2916666666666667 and parameters: {'max_depth': 8, 'learning_rate': 0.00444637953795404, 'n_estimators': 644, 'min_child_weight': 6, 'gamma': 1.8822090406068422e-08, 'subsample': 0.0060945259285131986, 'colsample_bytree': 0.010474600283245523, 'reg_alpha': 1.9125985922558012e-07, 'reg_lambda': 1.1737652290302296e-07}. Best is trial 20 with value: 0.5433519510504693.\u001b[0m\n",
            "\u001b[32m[I 2023-05-09 07:52:11,679]\u001b[0m Trial 49 finished with value: 0.4170673076923077 and parameters: {'max_depth': 10, 'learning_rate': 0.0032928494383727977, 'n_estimators': 684, 'min_child_weight': 10, 'gamma': 2.674051337648771e-05, 'subsample': 0.4059520267767211, 'colsample_bytree': 6.853603474055138e-06, 'reg_alpha': 1.500698965450412e-06, 'reg_lambda': 2.3899513440242482e-08}. Best is trial 20 with value: 0.5433519510504693.\u001b[0m\n",
            "\u001b[32m[I 2023-05-09 07:52:14,020]\u001b[0m Trial 50 finished with value: 0.42170329670329665 and parameters: {'max_depth': 3, 'learning_rate': 0.0017567345415032878, 'n_estimators': 802, 'min_child_weight': 8, 'gamma': 6.87108127878747e-08, 'subsample': 0.025210490266771295, 'colsample_bytree': 0.20029854613069997, 'reg_alpha': 2.39980926442953e-08, 'reg_lambda': 3.1110200280524954e-07}. Best is trial 20 with value: 0.5433519510504693.\u001b[0m\n",
            "\u001b[32m[I 2023-05-09 07:52:17,391]\u001b[0m Trial 51 finished with value: 0.5004136851520573 and parameters: {'max_depth': 13, 'learning_rate': 0.004993962857208165, 'n_estimators': 950, 'min_child_weight': 7, 'gamma': 1.165338719749663e-07, 'subsample': 0.07133660033304312, 'colsample_bytree': 1.959638521975808e-06, 'reg_alpha': 1.528047533094275e-08, 'reg_lambda': 7.0322664412348874e-06}. Best is trial 20 with value: 0.5433519510504693.\u001b[0m\n",
            "\u001b[32m[I 2023-05-09 07:52:23,298]\u001b[0m Trial 52 finished with value: 0.4203631734119539 and parameters: {'max_depth': 14, 'learning_rate': 0.0060102600746571085, 'n_estimators': 734, 'min_child_weight': 7, 'gamma': 2.467183570281857e-07, 'subsample': 0.14276038337026956, 'colsample_bytree': 8.310719797881526e-07, 'reg_alpha': 5.303923551044794e-08, 'reg_lambda': 2.475750700907058e-06}. Best is trial 20 with value: 0.5433519510504693.\u001b[0m\n",
            "\u001b[32m[I 2023-05-09 07:52:26,402]\u001b[0m Trial 53 finished with value: 0.49070282787388053 and parameters: {'max_depth': 16, 'learning_rate': 0.009070252798672634, 'n_estimators': 967, 'min_child_weight': 6, 'gamma': 5.032768555677012e-07, 'subsample': 0.042898551063636596, 'colsample_bytree': 0.0011621334278798699, 'reg_alpha': 1.13730349060837e-07, 'reg_lambda': 5.043589517783994e-06}. Best is trial 20 with value: 0.5433519510504693.\u001b[0m\n",
            "\u001b[32m[I 2023-05-09 07:52:28,967]\u001b[0m Trial 54 finished with value: 0.2916666666666667 and parameters: {'max_depth': 11, 'learning_rate': 0.007688185508629623, 'n_estimators': 846, 'min_child_weight': 8, 'gamma': 5.3184480306575855e-08, 'subsample': 0.015827870834074973, 'colsample_bytree': 0.4604886350814203, 'reg_alpha': 2.4094038371656686e-08, 'reg_lambda': 1.0161254483136554e-08}. Best is trial 20 with value: 0.5433519510504693.\u001b[0m\n",
            "\u001b[32m[I 2023-05-09 07:52:39,273]\u001b[0m Trial 55 finished with value: 0.310652906719717 and parameters: {'max_depth': 12, 'learning_rate': 0.012953443600033792, 'n_estimators': 903, 'min_child_weight': 9, 'gamma': 1.9321217814697724e-08, 'subsample': 0.9415993121159423, 'colsample_bytree': 1.1263292236664606e-05, 'reg_alpha': 1.090253206404802e-08, 'reg_lambda': 7.433709585659917e-07}. Best is trial 20 with value: 0.5433519510504693.\u001b[0m\n",
            "\u001b[32m[I 2023-05-09 07:52:42,320]\u001b[0m Trial 56 finished with value: 0.3858883891645989 and parameters: {'max_depth': 13, 'learning_rate': 0.0035194494551448736, 'n_estimators': 574, 'min_child_weight': 7, 'gamma': 1.0931798688079182e-07, 'subsample': 0.21276456447753975, 'colsample_bytree': 0.0039383925852174125, 'reg_alpha': 4.62192786051321e-07, 'reg_lambda': 3.2473168937414325e-07}. Best is trial 20 with value: 0.5433519510504693.\u001b[0m\n",
            "\u001b[32m[I 2023-05-09 07:52:43,902]\u001b[0m Trial 57 finished with value: 0.4702048373923374 and parameters: {'max_depth': 15, 'learning_rate': 0.004635523120499989, 'n_estimators': 400, 'min_child_weight': 8, 'gamma': 1.679626349832965e-07, 'subsample': 0.09262628072582435, 'colsample_bytree': 0.0006608854608477222, 'reg_alpha': 2.2629991462429072e-07, 'reg_lambda': 2.8396096503350985e-06}. Best is trial 20 with value: 0.5433519510504693.\u001b[0m\n",
            "\u001b[32m[I 2023-05-09 07:52:49,007]\u001b[0m Trial 58 finished with value: 0.2916666666666667 and parameters: {'max_depth': 7, 'learning_rate': 0.006765461615290797, 'n_estimators': 883, 'min_child_weight': 5, 'gamma': 3.6784676520362134e-07, 'subsample': 0.008167152219639384, 'colsample_bytree': 0.00017563979429175276, 'reg_alpha': 6.72138227512615e-08, 'reg_lambda': 4.064046548411812e-05}. Best is trial 20 with value: 0.5433519510504693.\u001b[0m\n",
            "\u001b[32m[I 2023-05-09 07:52:51,430]\u001b[0m Trial 59 finished with value: 0.4735668254617722 and parameters: {'max_depth': 9, 'learning_rate': 0.008654015297476536, 'n_estimators': 766, 'min_child_weight': 9, 'gamma': 6.279257468075713e-08, 'subsample': 0.04776526356810129, 'colsample_bytree': 0.03501264249675444, 'reg_alpha': 1.0557460762243847e-05, 'reg_lambda': 0.0002391940175015412}. Best is trial 20 with value: 0.5433519510504693.\u001b[0m\n",
            "\u001b[32m[I 2023-05-09 07:52:52,416]\u001b[0m Trial 60 finished with value: 0.412054244774833 and parameters: {'max_depth': 17, 'learning_rate': 0.002513625865932113, 'n_estimators': 119, 'min_child_weight': 6, 'gamma': 1.408336434770276e-06, 'subsample': 0.4401073580380662, 'colsample_bytree': 7.252923752599658e-05, 'reg_alpha': 8.689771064986657e-08, 'reg_lambda': 1.2722071719431106e-06}. Best is trial 20 with value: 0.5433519510504693.\u001b[0m\n",
            "\u001b[32m[I 2023-05-09 07:52:55,844]\u001b[0m Trial 61 finished with value: 0.49018641242478456 and parameters: {'max_depth': 13, 'learning_rate': 0.005307971001446606, 'n_estimators': 942, 'min_child_weight': 7, 'gamma': 1.2114388881723762e-07, 'subsample': 0.08227076394706598, 'colsample_bytree': 6.048699369922716e-07, 'reg_alpha': 1.4451993021189282e-08, 'reg_lambda': 9.246033164806097e-06}. Best is trial 20 with value: 0.5433519510504693.\u001b[0m\n",
            "\u001b[32m[I 2023-05-09 07:53:02,414]\u001b[0m Trial 62 finished with value: 0.46066077817531315 and parameters: {'max_depth': 14, 'learning_rate': 0.005266910314934887, 'n_estimators': 967, 'min_child_weight': 7, 'gamma': 9.420276598510926e-08, 'subsample': 0.10816000756152004, 'colsample_bytree': 1.2745871527940308e-07, 'reg_alpha': 2.084183974906518e-08, 'reg_lambda': 4.40443637923338e-06}. Best is trial 20 with value: 0.5433519510504693.\u001b[0m\n",
            "\u001b[32m[I 2023-05-09 07:53:05,129]\u001b[0m Trial 63 finished with value: 0.3781650641025641 and parameters: {'max_depth': 13, 'learning_rate': 0.0014698855260514433, 'n_estimators': 964, 'min_child_weight': 8, 'gamma': 1.869030241462104e-08, 'subsample': 0.023410222704577217, 'colsample_bytree': 1.7663114078410685e-06, 'reg_alpha': 1.1563356434104905e-08, 'reg_lambda': 9.111954354771716e-08}. Best is trial 20 with value: 0.5433519510504693.\u001b[0m\n",
            "\u001b[32m[I 2023-05-09 07:53:10,088]\u001b[0m Trial 64 finished with value: 0.37496710446253634 and parameters: {'max_depth': 10, 'learning_rate': 0.011369594613625331, 'n_estimators': 997, 'min_child_weight': 7, 'gamma': 2.888127004375839e-07, 'subsample': 0.20668218741069241, 'colsample_bytree': 6.870211551485247e-06, 'reg_alpha': 3.485984636698541e-08, 'reg_lambda': 1.4905008429413004e-05}. Best is trial 20 with value: 0.5433519510504693.\u001b[0m\n",
            "\u001b[32m[I 2023-05-09 07:53:15,686]\u001b[0m Trial 65 finished with value: 0.449812382739212 and parameters: {'max_depth': 12, 'learning_rate': 0.003332236200446229, 'n_estimators': 942, 'min_child_weight': 8, 'gamma': 6.715360041566494e-07, 'subsample': 0.05200391245558626, 'colsample_bytree': 2.9521901030115e-06, 'reg_alpha': 2.02070101468863e-08, 'reg_lambda': 4.6942584918287327e-07}. Best is trial 20 with value: 0.5433519510504693.\u001b[0m\n",
            "\u001b[32m[I 2023-05-09 07:53:18,307]\u001b[0m Trial 66 finished with value: 0.2916666666666667 and parameters: {'max_depth': 11, 'learning_rate': 0.004493386461797465, 'n_estimators': 910, 'min_child_weight': 7, 'gamma': 1.1441621079979942e-07, 'subsample': 0.009692620096264907, 'colsample_bytree': 0.0002344592427508133, 'reg_alpha': 1.9273686548313084e-07, 'reg_lambda': 1.0698643459282182e-06}. Best is trial 20 with value: 0.5433519510504693.\u001b[0m\n",
            "\u001b[32m[I 2023-05-09 07:53:20,979]\u001b[0m Trial 67 finished with value: 0.4259704415954416 and parameters: {'max_depth': 14, 'learning_rate': 0.007105567742819087, 'n_estimators': 863, 'min_child_weight': 6, 'gamma': 4.932983426188193e-08, 'subsample': 0.031152751558336546, 'colsample_bytree': 4.1207293126442675e-05, 'reg_alpha': 7.362462101589123e-08, 'reg_lambda': 2.4239577029831247e-07}. Best is trial 20 with value: 0.5433519510504693.\u001b[0m\n",
            "\u001b[32m[I 2023-05-09 07:53:27,435]\u001b[0m Trial 68 finished with value: 0.4384003318835636 and parameters: {'max_depth': 5, 'learning_rate': 0.002749685332967566, 'n_estimators': 638, 'min_child_weight': 9, 'gamma': 1.0307466274593592e-08, 'subsample': 0.5131656763720742, 'colsample_bytree': 0.00016184323284310073, 'reg_alpha': 4.064454433395565e-07, 'reg_lambda': 1.5694700588032357e-07}. Best is trial 20 with value: 0.5433519510504693.\u001b[0m\n",
            "\u001b[32m[I 2023-05-09 07:53:30,658]\u001b[0m Trial 69 finished with value: 0.4663873698366623 and parameters: {'max_depth': 15, 'learning_rate': 0.01783718936676958, 'n_estimators': 795, 'min_child_weight': 8, 'gamma': 1.8499937012888874e-07, 'subsample': 0.13095835170313455, 'colsample_bytree': 2.0964682943862173e-05, 'reg_alpha': 7.172359232469572e-07, 'reg_lambda': 5.936645099059266e-08}. Best is trial 20 with value: 0.5433519510504693.\u001b[0m\n",
            "\u001b[32m[I 2023-05-09 07:53:32,804]\u001b[0m Trial 70 finished with value: 0.2916666666666667 and parameters: {'max_depth': 13, 'learning_rate': 0.013052286958603962, 'n_estimators': 751, 'min_child_weight': 7, 'gamma': 2.203648279831938e-06, 'subsample': 0.004954854526609689, 'colsample_bytree': 4.228655699506518e-06, 'reg_alpha': 1.4417580611590795e-06, 'reg_lambda': 4.227466148713072e-06}. Best is trial 20 with value: 0.5433519510504693.\u001b[0m\n",
            "\u001b[32m[I 2023-05-09 07:53:35,093]\u001b[0m Trial 71 finished with value: 0.5107330888580889 and parameters: {'max_depth': 10, 'learning_rate': 0.007764277034449954, 'n_estimators': 677, 'min_child_weight': 10, 'gamma': 2.0636443168885357e-06, 'subsample': 0.05693818090193981, 'colsample_bytree': 0.25144955529345325, 'reg_alpha': 4.229951269964298e-08, 'reg_lambda': 2.525045179121111e-06}. Best is trial 20 with value: 0.5433519510504693.\u001b[0m\n",
            "\u001b[32m[I 2023-05-09 07:53:36,999]\u001b[0m Trial 72 finished with value: 0.5139676899187768 and parameters: {'max_depth': 12, 'learning_rate': 0.008243171168362297, 'n_estimators': 540, 'min_child_weight': 10, 'gamma': 6.950888928423599e-07, 'subsample': 0.058751584093163535, 'colsample_bytree': 0.48330587601718217, 'reg_alpha': 4.10940432077744e-08, 'reg_lambda': 2.617818024032912e-06}. Best is trial 20 with value: 0.5433519510504693.\u001b[0m\n",
            "\u001b[32m[I 2023-05-09 07:53:54,088]\u001b[0m Trial 73 finished with value: 0.43669871794871795 and parameters: {'max_depth': 7, 'learning_rate': 0.00801829407608976, 'n_estimators': 544, 'min_child_weight': 10, 'gamma': 8.026025433867102e-07, 'subsample': 0.276000797618765, 'colsample_bytree': 0.4993198084572168, 'reg_alpha': 1.0882599638380047e-07, 'reg_lambda': 2.234622260940355e-06}. Best is trial 20 with value: 0.5433519510504693.\u001b[0m\n",
            "\u001b[32m[I 2023-05-09 07:53:55,891]\u001b[0m Trial 74 finished with value: 0.2916666666666667 and parameters: {'max_depth': 12, 'learning_rate': 0.00942965942921542, 'n_estimators': 597, 'min_child_weight': 10, 'gamma': 4.273745616423254e-06, 'subsample': 0.017531203880629134, 'colsample_bytree': 0.2931499598523564, 'reg_alpha': 4.0215929121777485e-08, 'reg_lambda': 8.974903363333496e-07}. Best is trial 20 with value: 0.5433519510504693.\u001b[0m\n",
            "\u001b[32m[I 2023-05-09 07:53:58,230]\u001b[0m Trial 75 finished with value: 0.4686843718388529 and parameters: {'max_depth': 10, 'learning_rate': 0.006425547752686399, 'n_estimators': 686, 'min_child_weight': 10, 'gamma': 3.380516293824548e-07, 'subsample': 0.04978365271965704, 'colsample_bytree': 0.6395124450964451, 'reg_alpha': 3.0770526075588744e-07, 'reg_lambda': 4.529893275133414e-07}. Best is trial 20 with value: 0.5433519510504693.\u001b[0m\n",
            "\u001b[32m[I 2023-05-09 07:54:00,496]\u001b[0m Trial 76 finished with value: 0.45544099795553283 and parameters: {'max_depth': 11, 'learning_rate': 0.003928908882607583, 'n_estimators': 522, 'min_child_weight': 10, 'gamma': 1.2963115809441303e-06, 'subsample': 0.15704518840513135, 'colsample_bytree': 0.10747999075251621, 'reg_alpha': 1.7230457651217327e-07, 'reg_lambda': 1.721376561222894e-06}. Best is trial 20 with value: 0.5433519510504693.\u001b[0m\n",
            "\u001b[32m[I 2023-05-09 07:54:01,964]\u001b[0m Trial 77 finished with value: 0.47098557692307697 and parameters: {'max_depth': 12, 'learning_rate': 0.011420832333190334, 'n_estimators': 462, 'min_child_weight': 9, 'gamma': 5.292500453932686e-07, 'subsample': 0.031738881202443225, 'colsample_bytree': 0.28888209870016024, 'reg_alpha': 5.8168292303566387e-08, 'reg_lambda': 1.7243820897629032e-07}. Best is trial 20 with value: 0.5433519510504693.\u001b[0m\n",
            "\u001b[32m[I 2023-05-09 07:54:03,919]\u001b[0m Trial 78 finished with value: 0.2916666666666667 and parameters: {'max_depth': 8, 'learning_rate': 0.006598323230638284, 'n_estimators': 671, 'min_child_weight': 9, 'gamma': 2.1104823595390564e-06, 'subsample': 0.01569312826854057, 'colsample_bytree': 0.08825590546875484, 'reg_alpha': 2.5074536661434548e-08, 'reg_lambda': 6.605967958855852e-07}. Best is trial 20 with value: 0.5433519510504693.\u001b[0m\n",
            "\u001b[32m[I 2023-05-09 07:54:09,961]\u001b[0m Trial 79 finished with value: 0.4134745009636125 and parameters: {'max_depth': 9, 'learning_rate': 0.008752545055451592, 'n_estimators': 621, 'min_child_weight': 10, 'gamma': 6.366861359251128e-06, 'subsample': 0.3103025059563855, 'colsample_bytree': 0.05554122681415107, 'reg_alpha': 8.938969733737596e-08, 'reg_lambda': 9.709277430712392e-08}. Best is trial 20 with value: 0.5433519510504693.\u001b[0m\n",
            "\u001b[32m[I 2023-05-09 07:54:12,021]\u001b[0m Trial 80 finished with value: 0.5177354036729037 and parameters: {'max_depth': 11, 'learning_rate': 0.015213374748035982, 'n_estimators': 580, 'min_child_weight': 9, 'gamma': 1.0183304593203283e-06, 'subsample': 0.07894702378997297, 'colsample_bytree': 0.2310163283740364, 'reg_alpha': 6.684387931869148e-07, 'reg_lambda': 3.7500331118775715e-06}. Best is trial 20 with value: 0.5433519510504693.\u001b[0m\n",
            "\u001b[32m[I 2023-05-09 07:54:14,031]\u001b[0m Trial 81 finished with value: 0.4711975617984925 and parameters: {'max_depth': 11, 'learning_rate': 0.021431954405624693, 'n_estimators': 575, 'min_child_weight': 9, 'gamma': 1.0699790484791006e-06, 'subsample': 0.07717350625639917, 'colsample_bytree': 0.17522113487107516, 'reg_alpha': 5.806970544270121e-07, 'reg_lambda': 1.144250994514098e-06}. Best is trial 20 with value: 0.5433519510504693.\u001b[0m\n",
            "\u001b[32m[I 2023-05-09 07:54:16,444]\u001b[0m Trial 82 finished with value: 0.5245553980593874 and parameters: {'max_depth': 10, 'learning_rate': 0.015034665029197215, 'n_estimators': 535, 'min_child_weight': 10, 'gamma': 2.5632475690631287e-07, 'subsample': 0.10985014309590586, 'colsample_bytree': 0.5785990018505287, 'reg_alpha': 2.4468509793653613e-06, 'reg_lambda': 3.824482268358199e-06}. Best is trial 20 with value: 0.5433519510504693.\u001b[0m\n",
            "\u001b[32m[I 2023-05-09 07:54:22,321]\u001b[0m Trial 83 finished with value: 0.4864619755244755 and parameters: {'max_depth': 4, 'learning_rate': 0.015636033907419213, 'n_estimators': 622, 'min_child_weight': 10, 'gamma': 4.7107877080733584e-07, 'subsample': 0.15857712921229966, 'colsample_bytree': 0.630305228745634, 'reg_alpha': 2.086901216682422e-06, 'reg_lambda': 2.897988318983371e-06}. Best is trial 20 with value: 0.5433519510504693.\u001b[0m\n",
            "\u001b[32m[I 2023-05-09 07:54:24,537]\u001b[0m Trial 84 finished with value: 0.4825721153846154 and parameters: {'max_depth': 10, 'learning_rate': 0.011017163269514898, 'n_estimators': 710, 'min_child_weight': 10, 'gamma': 2.3468096965867657e-07, 'subsample': 0.04669786822490508, 'colsample_bytree': 0.3183480998308458, 'reg_alpha': 3.361955780021979e-06, 'reg_lambda': 1.705465440625326e-06}. Best is trial 20 with value: 0.5433519510504693.\u001b[0m\n",
            "\u001b[32m[I 2023-05-09 07:54:27,379]\u001b[0m Trial 85 finished with value: 0.5551666719907998 and parameters: {'max_depth': 9, 'learning_rate': 0.014197461926482859, 'n_estimators': 539, 'min_child_weight': 9, 'gamma': 7.702366029175775e-07, 'subsample': 0.11283412694057855, 'colsample_bytree': 0.9884290372881207, 'reg_alpha': 1.0081520700930986e-06, 'reg_lambda': 1.1744071257768952e-05}. Best is trial 85 with value: 0.5551666719907998.\u001b[0m\n",
            "\u001b[32m[I 2023-05-09 07:54:37,328]\u001b[0m Trial 86 finished with value: 0.37301905270655267 and parameters: {'max_depth': 8, 'learning_rate': 0.01875470414669215, 'n_estimators': 497, 'min_child_weight': 9, 'gamma': 7.892271580429107e-07, 'subsample': 0.5910070951312266, 'colsample_bytree': 0.7306966352301053, 'reg_alpha': 1.1625243203503866e-06, 'reg_lambda': 1.2989398536858732e-05}. Best is trial 85 with value: 0.5551666719907998.\u001b[0m\n",
            "\u001b[32m[I 2023-05-09 07:54:40,016]\u001b[0m Trial 87 finished with value: 0.5121879217273954 and parameters: {'max_depth': 9, 'learning_rate': 0.014484860387909302, 'n_estimators': 537, 'min_child_weight': 9, 'gamma': 3.011144888281517e-06, 'subsample': 0.10514622533378297, 'colsample_bytree': 0.9300414145154406, 'reg_alpha': 8.628873547934664e-07, 'reg_lambda': 9.452411265152767e-06}. Best is trial 85 with value: 0.5551666719907998.\u001b[0m\n",
            "\u001b[32m[I 2023-05-09 07:54:42,351]\u001b[0m Trial 88 finished with value: 0.5186573702198702 and parameters: {'max_depth': 6, 'learning_rate': 0.014585069000368977, 'n_estimators': 449, 'min_child_weight': 9, 'gamma': 2.5869733081864253e-06, 'subsample': 0.10860642913128891, 'colsample_bytree': 0.9216146499251476, 'reg_alpha': 8.300729278893817e-07, 'reg_lambda': 6.864274864007421e-06}. Best is trial 85 with value: 0.5551666719907998.\u001b[0m\n",
            "\u001b[32m[I 2023-05-09 07:54:46,830]\u001b[0m Trial 89 finished with value: 0.4801290575559192 and parameters: {'max_depth': 7, 'learning_rate': 0.026381425133056614, 'n_estimators': 440, 'min_child_weight': 9, 'gamma': 2.7705915526365834e-06, 'subsample': 0.11022930048128966, 'colsample_bytree': 0.41219308766804386, 'reg_alpha': 8.197738402742146e-07, 'reg_lambda': 2.031602857911314e-05}. Best is trial 85 with value: 0.5551666719907998.\u001b[0m\n",
            "\u001b[32m[I 2023-05-09 07:54:49,817]\u001b[0m Trial 90 finished with value: 0.4686425109443402 and parameters: {'max_depth': 6, 'learning_rate': 0.014890380938729053, 'n_estimators': 349, 'min_child_weight': 9, 'gamma': 3.3410983909152534e-06, 'subsample': 0.22494728315356452, 'colsample_bytree': 0.9973825948311841, 'reg_alpha': 1.0619389903663546e-06, 'reg_lambda': 7.654391754205834e-06}. Best is trial 85 with value: 0.5551666719907998.\u001b[0m\n",
            "\u001b[32m[I 2023-05-09 07:54:54,470]\u001b[0m Trial 91 finished with value: 0.4278088184338184 and parameters: {'max_depth': 6, 'learning_rate': 0.013327004857695555, 'n_estimators': 512, 'min_child_weight': 9, 'gamma': 1.6846662344324724e-06, 'subsample': 0.32581874626733287, 'colsample_bytree': 0.6382183485937157, 'reg_alpha': 3.0555659132195094e-06, 'reg_lambda': 1.1714363447780013e-05}. Best is trial 85 with value: 0.5551666719907998.\u001b[0m\n",
            "\u001b[32m[I 2023-05-09 07:54:56,441]\u001b[0m Trial 92 finished with value: 0.5244830753595997 and parameters: {'max_depth': 9, 'learning_rate': 0.017249166250975168, 'n_estimators': 462, 'min_child_weight': 9, 'gamma': 5.79064991982608e-06, 'subsample': 0.10751359109069782, 'colsample_bytree': 0.44997926548062117, 'reg_alpha': 3.5999930081593974e-07, 'reg_lambda': 5.35973034315243e-06}. Best is trial 85 with value: 0.5551666719907998.\u001b[0m\n",
            "\u001b[32m[I 2023-05-09 07:55:01,367]\u001b[0m Trial 93 finished with value: 0.4727729126327524 and parameters: {'max_depth': 9, 'learning_rate': 0.016061582919659534, 'n_estimators': 399, 'min_child_weight': 9, 'gamma': 6.820108734013711e-06, 'subsample': 0.20009081738722134, 'colsample_bytree': 0.4222596811056624, 'reg_alpha': 3.1675129128040687e-07, 'reg_lambda': 2.7595313672624224e-05}. Best is trial 85 with value: 0.5551666719907998.\u001b[0m\n",
            "\u001b[32m[I 2023-05-09 07:55:08,186]\u001b[0m Trial 94 finished with value: 0.34915865384615385 and parameters: {'max_depth': 7, 'learning_rate': 0.023272542760039556, 'n_estimators': 469, 'min_child_weight': 10, 'gamma': 1.1335305896148696e-06, 'subsample': 0.6545566215012212, 'colsample_bytree': 0.7112290517192833, 'reg_alpha': 1.3655372449383561e-06, 'reg_lambda': 5.3433321276538894e-06}. Best is trial 85 with value: 0.5551666719907998.\u001b[0m\n",
            "\u001b[32m[I 2023-05-09 07:55:13,466]\u001b[0m Trial 95 finished with value: 0.5277692106111918 and parameters: {'max_depth': 8, 'learning_rate': 0.019044569160957, 'n_estimators': 541, 'min_child_weight': 9, 'gamma': 6.453173354296624e-07, 'subsample': 0.10558749591398253, 'colsample_bytree': 0.9774636632374915, 'reg_alpha': 4.843042688670012e-07, 'reg_lambda': 6.972185263623668e-06}. Best is trial 85 with value: 0.5551666719907998.\u001b[0m\n",
            "\u001b[32m[I 2023-05-09 07:55:14,846]\u001b[0m Trial 96 finished with value: 0.4167775687476774 and parameters: {'max_depth': 8, 'learning_rate': 0.02012082077061968, 'n_estimators': 439, 'min_child_weight': 8, 'gamma': 7.323351769507963e-07, 'subsample': 0.03934737576724274, 'colsample_bytree': 0.1229496279221773, 'reg_alpha': 6.284878774951467e-07, 'reg_lambda': 1.926692141447161e-05}. Best is trial 85 with value: 0.5551666719907998.\u001b[0m\n",
            "\u001b[32m[I 2023-05-09 07:55:17,618]\u001b[0m Trial 97 finished with value: 0.4596925990675991 and parameters: {'max_depth': 7, 'learning_rate': 0.017971049392435476, 'n_estimators': 584, 'min_child_weight': 9, 'gamma': 3.739949670125585e-07, 'subsample': 0.1416877491616688, 'colsample_bytree': 0.40115007350621046, 'reg_alpha': 4.3653800954924554e-07, 'reg_lambda': 3.6026128247063767e-06}. Best is trial 85 with value: 0.5551666719907998.\u001b[0m\n",
            "\u001b[32m[I 2023-05-09 07:55:21,873]\u001b[0m Trial 98 finished with value: 0.4303882360685955 and parameters: {'max_depth': 8, 'learning_rate': 0.0125394630196189, 'n_estimators': 559, 'min_child_weight': 10, 'gamma': 5.588138221717908e-07, 'subsample': 0.41527186219659734, 'colsample_bytree': 0.23655450012463555, 'reg_alpha': 2.1014934850343087e-06, 'reg_lambda': 6.662780053053361e-06}. Best is trial 85 with value: 0.5551666719907998.\u001b[0m\n",
            "\u001b[32m[I 2023-05-09 07:55:27,202]\u001b[0m Trial 99 finished with value: 0.48073298229548234 and parameters: {'max_depth': 9, 'learning_rate': 0.02786726746907843, 'n_estimators': 494, 'min_child_weight': 8, 'gamma': 1.2838518805203226e-06, 'subsample': 0.022013618157857635, 'colsample_bytree': 0.16459976674847968, 'reg_alpha': 4.915941116621367e-06, 'reg_lambda': 3.7824929305799755e-06}. Best is trial 85 with value: 0.5551666719907998.\u001b[0m\n",
            "\u001b[32m[I 2023-05-09 07:55:29,796]\u001b[0m Trial 100 finished with value: 0.49328227489564697 and parameters: {'max_depth': 5, 'learning_rate': 0.03298507793997676, 'n_estimators': 473, 'min_child_weight': 9, 'gamma': 9.353707798015069e-07, 'subsample': 0.08147403400414341, 'colsample_bytree': 0.5475739155712883, 'reg_alpha': 2.211446347370871e-07, 'reg_lambda': 6.835032211140538e-06}. Best is trial 85 with value: 0.5551666719907998.\u001b[0m\n",
            "\u001b[32m[I 2023-05-09 07:55:33,883]\u001b[0m Trial 101 finished with value: 0.5181271165940977 and parameters: {'max_depth': 9, 'learning_rate': 0.014488181802081725, 'n_estimators': 531, 'min_child_weight': 9, 'gamma': 2.965492991050158e-06, 'subsample': 0.10941191662185444, 'colsample_bytree': 0.9650059119247214, 'reg_alpha': 8.231735520463648e-07, 'reg_lambda': 1.0593228096993553e-05}. Best is trial 85 with value: 0.5551666719907998.\u001b[0m\n",
            "\u001b[32m[I 2023-05-09 07:55:39,933]\u001b[0m Trial 102 finished with value: 0.5202956309041835 and parameters: {'max_depth': 8, 'learning_rate': 0.010002782297561076, 'n_estimators': 381, 'min_child_weight': 9, 'gamma': 4.810107704885833e-06, 'subsample': 0.06519607678132391, 'colsample_bytree': 0.3504891621718329, 'reg_alpha': 4.62096537427409e-07, 'reg_lambda': 3.1712313494028775e-05}. Best is trial 85 with value: 0.5551666719907998.\u001b[0m\n",
            "\u001b[32m[I 2023-05-09 07:55:44,726]\u001b[0m Trial 103 finished with value: 0.5403839420383537 and parameters: {'max_depth': 6, 'learning_rate': 0.017163784919859235, 'n_estimators': 335, 'min_child_weight': 9, 'gamma': 1.6714131520729694e-05, 'subsample': 0.12412156929105742, 'colsample_bytree': 0.738052746850835, 'reg_alpha': 4.2487766631372034e-07, 'reg_lambda': 3.100714379245837e-05}. Best is trial 85 with value: 0.5551666719907998.\u001b[0m\n",
            "\u001b[32m[I 2023-05-09 07:55:49,987]\u001b[0m Trial 104 finished with value: 0.4298956252081252 and parameters: {'max_depth': 6, 'learning_rate': 0.0188493366520719, 'n_estimators': 269, 'min_child_weight': 8, 'gamma': 1.4887401690760756e-05, 'subsample': 0.20622946553374652, 'colsample_bytree': 0.7565781316970684, 'reg_alpha': 3.50203945180094e-07, 'reg_lambda': 3.088557083871224e-05}. Best is trial 85 with value: 0.5551666719907998.\u001b[0m\n",
            "\u001b[32m[I 2023-05-09 07:55:56,149]\u001b[0m Trial 105 finished with value: 0.4733051893956149 and parameters: {'max_depth': 4, 'learning_rate': 0.010813334381585465, 'n_estimators': 341, 'min_child_weight': 9, 'gamma': 5.456123841500607e-06, 'subsample': 0.3433128404112823, 'colsample_bytree': 0.4034794042135855, 'reg_alpha': 5.212137704111658e-07, 'reg_lambda': 5.355418890944688e-05}. Best is trial 85 with value: 0.5551666719907998.\u001b[0m\n",
            "\u001b[32m[I 2023-05-09 07:55:58,317]\u001b[0m Trial 106 finished with value: 0.5260817307692308 and parameters: {'max_depth': 6, 'learning_rate': 0.012104107869341005, 'n_estimators': 381, 'min_child_weight': 8, 'gamma': 1.5204131657061128e-05, 'subsample': 0.1136738526457179, 'colsample_bytree': 0.8683177507656553, 'reg_alpha': 1.5820600540878706e-06, 'reg_lambda': 1.4719063574884478e-05}. Best is trial 85 with value: 0.5551666719907998.\u001b[0m\n",
            "\u001b[32m[I 2023-05-09 07:55:59,496]\u001b[0m Trial 107 finished with value: 0.4686425109443402 and parameters: {'max_depth': 6, 'learning_rate': 0.012164107593240046, 'n_estimators': 353, 'min_child_weight': 8, 'gamma': 2.0653923914486733e-05, 'subsample': 0.034248580578823774, 'colsample_bytree': 0.33774495145766814, 'reg_alpha': 1.281023493102057e-06, 'reg_lambda': 1.6191483474135372e-05}. Best is trial 85 with value: 0.5551666719907998.\u001b[0m\n",
            "\u001b[32m[I 2023-05-09 07:56:09,681]\u001b[0m Trial 108 finished with value: 0.3891826923076923 and parameters: {'max_depth': 5, 'learning_rate': 0.021492909029027594, 'n_estimators': 408, 'min_child_weight': 8, 'gamma': 9.339872842385816e-06, 'subsample': 0.6649153708554952, 'colsample_bytree': 0.5689053821665402, 'reg_alpha': 1.6295741037348957e-06, 'reg_lambda': 2.095183536509347e-05}. Best is trial 85 with value: 0.5551666719907998.\u001b[0m\n",
            "\u001b[32m[I 2023-05-09 07:56:12,513]\u001b[0m Trial 109 finished with value: 0.4544197545340838 and parameters: {'max_depth': 20, 'learning_rate': 0.009563663020409747, 'n_estimators': 374, 'min_child_weight': 8, 'gamma': 4.614454261446907e-06, 'subsample': 0.14102563758998835, 'colsample_bytree': 0.16160980339466233, 'reg_alpha': 4.252853114799344e-07, 'reg_lambda': 3.136578629032594e-05}. Best is trial 85 with value: 0.5551666719907998.\u001b[0m\n",
            "\u001b[32m[I 2023-05-09 07:56:14,342]\u001b[0m Trial 110 finished with value: 0.2841880341880342 and parameters: {'max_depth': 4, 'learning_rate': 0.012067420082238909, 'n_estimators': 297, 'min_child_weight': 9, 'gamma': 7.22862965921211e-06, 'subsample': 0.011374357267282465, 'colsample_bytree': 0.998715819050964, 'reg_alpha': 2.7033879564966736e-06, 'reg_lambda': 5.961563574928287e-05}. Best is trial 85 with value: 0.5551666719907998.\u001b[0m\n",
            "\u001b[32m[I 2023-05-09 07:56:15,987]\u001b[0m Trial 111 finished with value: 0.51219276069675 and parameters: {'max_depth': 8, 'learning_rate': 0.01679783241992834, 'n_estimators': 304, 'min_child_weight': 9, 'gamma': 1.3071133818646103e-05, 'subsample': 0.12675625262235687, 'colsample_bytree': 0.632072963776385, 'reg_alpha': 9.059302810689192e-07, 'reg_lambda': 1.0180193045872435e-05}. Best is trial 85 with value: 0.5551666719907998.\u001b[0m\n",
            "\u001b[32m[I 2023-05-09 07:56:18,629]\u001b[0m Trial 112 finished with value: 0.4958502774399514 and parameters: {'max_depth': 6, 'learning_rate': 0.014170609873866202, 'n_estimators': 447, 'min_child_weight': 9, 'gamma': 4.602861579771648e-06, 'subsample': 0.057287790431090835, 'colsample_bytree': 0.321885981082846, 'reg_alpha': 1.6575668438156401e-06, 'reg_lambda': 1.310525283785355e-05}. Best is trial 85 with value: 0.5551666719907998.\u001b[0m\n",
            "\u001b[32m[I 2023-05-09 07:56:21,104]\u001b[0m Trial 113 finished with value: 0.527219135031635 and parameters: {'max_depth': 7, 'learning_rate': 0.01070510846149839, 'n_estimators': 185, 'min_child_weight': 9, 'gamma': 4.62384743857918e-05, 'subsample': 0.10142080884417931, 'colsample_bytree': 0.7875624332765307, 'reg_alpha': 2.563616137115357e-07, 'reg_lambda': 8.47032415329341e-05}. Best is trial 85 with value: 0.5551666719907998.\u001b[0m\n",
            "\u001b[32m[I 2023-05-09 07:56:24,796]\u001b[0m Trial 114 finished with value: 0.4278846153846153 and parameters: {'max_depth': 7, 'learning_rate': 0.009810552791546856, 'n_estimators': 367, 'min_child_weight': 4, 'gamma': 3.7416136438066895e-05, 'subsample': 0.26083936865826113, 'colsample_bytree': 0.4826729118353504, 'reg_alpha': 2.604728758537263e-07, 'reg_lambda': 0.00012015259502892705}. Best is trial 85 with value: 0.5551666719907998.\u001b[0m\n",
            "\u001b[32m[I 2023-05-09 07:56:25,483]\u001b[0m Trial 115 finished with value: 0.4644012237762238 and parameters: {'max_depth': 7, 'learning_rate': 0.010616757615284193, 'n_estimators': 193, 'min_child_weight': 8, 'gamma': 9.762050756524267e-05, 'subsample': 0.03770770425703438, 'colsample_bytree': 0.22181160645293077, 'reg_alpha': 2.7663198574488703e-07, 'reg_lambda': 2.3499597689179345e-05}. Best is trial 85 with value: 0.5551666719907998.\u001b[0m\n",
            "\u001b[32m[I 2023-05-09 07:56:26,878]\u001b[0m Trial 116 finished with value: 0.42155226873214674 and parameters: {'max_depth': 8, 'learning_rate': 0.008585987692100096, 'n_estimators': 154, 'min_child_weight': 9, 'gamma': 1.769387146474893e-05, 'subsample': 0.9959021029744812, 'colsample_bytree': 0.09734891934453337, 'reg_alpha': 1.4056756300267972e-07, 'reg_lambda': 9.02489740477691e-05}. Best is trial 85 with value: 0.5551666719907998.\u001b[0m\n",
            "\u001b[32m[I 2023-05-09 07:56:29,357]\u001b[0m Trial 117 finished with value: 0.49934335090585097 and parameters: {'max_depth': 6, 'learning_rate': 0.01696126229719498, 'n_estimators': 384, 'min_child_weight': 9, 'gamma': 9.858809466961724e-06, 'subsample': 0.18446859995854717, 'colsample_bytree': 0.6992250645714657, 'reg_alpha': 5.494937497715964e-07, 'reg_lambda': 4.373958226282481e-05}. Best is trial 85 with value: 0.5551666719907998.\u001b[0m\n",
            "\u001b[32m[I 2023-05-09 07:56:33,863]\u001b[0m Trial 118 finished with value: 0.5061298076923076 and parameters: {'max_depth': 5, 'learning_rate': 0.007030172191655275, 'n_estimators': 425, 'min_child_weight': 8, 'gamma': 3.41097868447932e-05, 'subsample': 0.09911935163019987, 'colsample_bytree': 0.3654997379427567, 'reg_alpha': 2.131959131800023e-07, 'reg_lambda': 6.277679748013876e-06}. Best is trial 85 with value: 0.5551666719907998.\u001b[0m\n",
            "\u001b[32m[I 2023-05-09 07:56:34,684]\u001b[0m Trial 119 finished with value: 0.5067674736141268 and parameters: {'max_depth': 7, 'learning_rate': 0.013625245071107015, 'n_estimators': 225, 'min_child_weight': 10, 'gamma': 1.4743614852490628e-05, 'subsample': 0.024159356504321515, 'colsample_bytree': 0.9975195666194394, 'reg_alpha': 1.1120545149705173e-06, 'reg_lambda': 1.626272886042965e-05}. Best is trial 85 with value: 0.5551666719907998.\u001b[0m\n",
            "\u001b[32m[I 2023-05-09 07:56:37,051]\u001b[0m Trial 120 finished with value: 0.35982015669515666 and parameters: {'max_depth': 8, 'learning_rate': 0.023507160187345052, 'n_estimators': 505, 'min_child_weight': 3, 'gamma': 2.58675017226009e-05, 'subsample': 0.07555364970719579, 'colsample_bytree': 0.13619054809904324, 'reg_alpha': 4.0041910682912807e-07, 'reg_lambda': 5.941110473178342e-06}. Best is trial 85 with value: 0.5551666719907998.\u001b[0m\n",
            "\u001b[32m[I 2023-05-09 07:56:37,268]\u001b[0m Trial 121 finished with value: 0.4155545424403183 and parameters: {'max_depth': 9, 'learning_rate': 0.012300056275362624, 'n_estimators': 19, 'min_child_weight': 9, 'gamma': 2.5931993740576584e-06, 'subsample': 0.08892101511610954, 'colsample_bytree': 0.771075695449644, 'reg_alpha': 7.90356390015739e-07, 'reg_lambda': 8.60557852776782e-06}. Best is trial 85 with value: 0.5551666719907998.\u001b[0m\n",
            "\u001b[32m[I 2023-05-09 07:56:37,603]\u001b[0m Trial 122 finished with value: 0.4490573152337859 and parameters: {'max_depth': 9, 'learning_rate': 0.014990138368715732, 'n_estimators': 50, 'min_child_weight': 9, 'gamma': 1.8010538392492316e-06, 'subsample': 0.10875232857427546, 'colsample_bytree': 0.5447027564440375, 'reg_alpha': 6.089530583191992e-07, 'reg_lambda': 1.0943977191693474e-05}. Best is trial 85 with value: 0.5551666719907998.\u001b[0m\n",
            "\u001b[32m[I 2023-05-09 07:56:40,481]\u001b[0m Trial 123 finished with value: 0.43839918305378833 and parameters: {'max_depth': 9, 'learning_rate': 0.02019552757458615, 'n_estimators': 327, 'min_child_weight': 9, 'gamma': 3.727877043018538e-06, 'subsample': 0.23659280869697835, 'colsample_bytree': 0.9976887950491574, 'reg_alpha': 2.339419457039701e-06, 'reg_lambda': 3.2749979905322853e-05}. Best is trial 85 with value: 0.5551666719907998.\u001b[0m\n",
            "\u001b[32m[I 2023-05-09 07:56:43,119]\u001b[0m Trial 124 finished with value: 0.5089621655518395 and parameters: {'max_depth': 7, 'learning_rate': 0.010629950852181139, 'n_estimators': 778, 'min_child_weight': 8, 'gamma': 1.9607860977929024e-05, 'subsample': 0.05894684170010632, 'colsample_bytree': 0.2613731861303111, 'reg_alpha': 3.9219083740729784e-06, 'reg_lambda': 1.3846169007391699e-05}. Best is trial 85 with value: 0.5551666719907998.\u001b[0m\n",
            "\u001b[32m[I 2023-05-09 07:56:53,439]\u001b[0m Trial 125 finished with value: 0.3489583333333333 and parameters: {'max_depth': 19, 'learning_rate': 0.017234291865966252, 'n_estimators': 825, 'min_child_weight': 9, 'gamma': 9.761523445055746e-06, 'subsample': 0.45308064261806724, 'colsample_bytree': 0.4433247975848777, 'reg_alpha': 1.9445539407707536e-06, 'reg_lambda': 2.3554008392042776e-05}. Best is trial 85 with value: 0.5551666719907998.\u001b[0m\n",
            "\u001b[32m[I 2023-05-09 07:57:00,200]\u001b[0m Trial 126 finished with value: 0.4766254414523783 and parameters: {'max_depth': 5, 'learning_rate': 0.013322609655919556, 'n_estimators': 739, 'min_child_weight': 10, 'gamma': 7.071284073330109e-05, 'subsample': 0.17164178730316496, 'colsample_bytree': 0.7285036509185141, 'reg_alpha': 9.377350993845955e-07, 'reg_lambda': 4.172598586283881e-05}. Best is trial 85 with value: 0.5551666719907998.\u001b[0m\n",
            "\u001b[32m[I 2023-05-09 07:57:01,563]\u001b[0m Trial 127 finished with value: 0.46420361373123004 and parameters: {'max_depth': 6, 'learning_rate': 0.008886593821765466, 'n_estimators': 426, 'min_child_weight': 9, 'gamma': 6.4376664948624015e-06, 'subsample': 0.04305701974906275, 'colsample_bytree': 0.3113683777838233, 'reg_alpha': 1.6226972732670058e-07, 'reg_lambda': 2.6414961122118453e-08}. Best is trial 85 with value: 0.5551666719907998.\u001b[0m\n",
            "\u001b[32m[I 2023-05-09 07:57:04,511]\u001b[0m Trial 128 finished with value: 0.37387820512820513 and parameters: {'max_depth': 8, 'learning_rate': 0.025572324215587607, 'n_estimators': 452, 'min_child_weight': 9, 'gamma': 4.8125948026206357e-05, 'subsample': 0.3133546518165876, 'colsample_bytree': 0.20188727355236738, 'reg_alpha': 2.921317616311786e-07, 'reg_lambda': 1.763240613556243e-08}. Best is trial 85 with value: 0.5551666719907998.\u001b[0m\n",
            "\u001b[32m[I 2023-05-09 07:57:06,706]\u001b[0m Trial 129 finished with value: 0.48887343018440577 and parameters: {'max_depth': 10, 'learning_rate': 0.007515270879861809, 'n_estimators': 485, 'min_child_weight': 10, 'gamma': 3.2676117241019214e-06, 'subsample': 0.11116435688425029, 'colsample_bytree': 0.5553374970973586, 'reg_alpha': 6.051081390101174e-06, 'reg_lambda': 4.7137828562081455e-08}. Best is trial 85 with value: 0.5551666719907998.\u001b[0m\n",
            "\u001b[32m[I 2023-05-09 07:57:08,308]\u001b[0m Trial 130 finished with value: 0.3991213527851459 and parameters: {'max_depth': 8, 'learning_rate': 0.0194329357455171, 'n_estimators': 389, 'min_child_weight': 2, 'gamma': 1.8382322446789485e-06, 'subsample': 0.03218059067276134, 'colsample_bytree': 0.06686341885058475, 'reg_alpha': 1.3702301362333748e-06, 'reg_lambda': 2.0017081817289796e-06}. Best is trial 85 with value: 0.5551666719907998.\u001b[0m\n",
            "\u001b[32m[I 2023-05-09 07:57:13,252]\u001b[0m Trial 131 finished with value: 0.5159345862470862 and parameters: {'max_depth': 9, 'learning_rate': 0.015044495175935252, 'n_estimators': 526, 'min_child_weight': 9, 'gamma': 1.5285333500318121e-07, 'subsample': 0.08419145165027071, 'colsample_bytree': 0.9811592312159497, 'reg_alpha': 6.998599063550202e-07, 'reg_lambda': 8.192539638516778e-06}. Best is trial 85 with value: 0.5551666719907998.\u001b[0m\n",
            "\u001b[32m[I 2023-05-09 07:57:15,118]\u001b[0m Trial 132 finished with value: 0.4883975232192993 and parameters: {'max_depth': 10, 'learning_rate': 0.011595121660306433, 'n_estimators': 543, 'min_child_weight': 9, 'gamma': 3.0095788441914786e-07, 'subsample': 0.06484164325837694, 'colsample_bytree': 0.24208783543790718, 'reg_alpha': 4.955913077063884e-07, 'reg_lambda': 4.234326034201255e-06}. Best is trial 85 with value: 0.5551666719907998.\u001b[0m\n",
            "\u001b[32m[I 2023-05-09 07:57:18,529]\u001b[0m Trial 133 finished with value: 0.42597977902855955 and parameters: {'max_depth': 7, 'learning_rate': 0.01534601979919584, 'n_estimators': 604, 'min_child_weight': 9, 'gamma': 1.3489246743217034e-06, 'subsample': 0.1727887666634674, 'colsample_bytree': 0.43307620781462497, 'reg_alpha': 3.40072591924538e-07, 'reg_lambda': 3.4965330386078775e-06}. Best is trial 85 with value: 0.5551666719907998.\u001b[0m\n",
            "\u001b[32m[I 2023-05-09 07:57:20,405]\u001b[0m Trial 134 finished with value: 0.2916666666666667 and parameters: {'max_depth': 10, 'learning_rate': 0.009998913581053448, 'n_estimators': 550, 'min_child_weight': 9, 'gamma': 8.430551233006595e-08, 'subsample': 0.01910022670591225, 'colsample_bytree': 0.6844452137130163, 'reg_alpha': 7.119823404258421e-07, 'reg_lambda': 4.9124874830129405e-06}. Best is trial 85 with value: 0.5551666719907998.\u001b[0m\n",
            "\u001b[32m[I 2023-05-09 07:57:26,578]\u001b[0m Trial 135 finished with value: 0.4780866778149387 and parameters: {'max_depth': 8, 'learning_rate': 0.01745156207570918, 'n_estimators': 569, 'min_child_weight': 8, 'gamma': 5.183779493438891e-07, 'subsample': 0.12288103600375432, 'colsample_bytree': 0.3215653306164243, 'reg_alpha': 2.7611924162217184e-06, 'reg_lambda': 1.3449740626429654e-05}. Best is trial 85 with value: 0.5551666719907998.\u001b[0m\n",
            "\u001b[32m[I 2023-05-09 07:57:28,407]\u001b[0m Trial 136 finished with value: 0.5078172134238311 and parameters: {'max_depth': 6, 'learning_rate': 0.030328530634059603, 'n_estimators': 507, 'min_child_weight': 9, 'gamma': 2.5942056676393773e-06, 'subsample': 0.06606541013474201, 'colsample_bytree': 0.5484100896088935, 'reg_alpha': 1.9384668492948903e-07, 'reg_lambda': 1.5185672751295172e-06}. Best is trial 85 with value: 0.5551666719907998.\u001b[0m\n",
            "\u001b[32m[I 2023-05-09 07:57:30,390]\u001b[0m Trial 137 finished with value: 0.4607371794871795 and parameters: {'max_depth': 7, 'learning_rate': 0.005809804760366975, 'n_estimators': 640, 'min_child_weight': 9, 'gamma': 1.00751802504822e-06, 'subsample': 0.040596753300596644, 'colsample_bytree': 0.16504328608992413, 'reg_alpha': 1.2077945698411173e-06, 'reg_lambda': 3.0427525283042204e-06}. Best is trial 85 with value: 0.5551666719907998.\u001b[0m\n",
            "\u001b[32m[I 2023-05-09 07:57:32,098]\u001b[0m Trial 138 finished with value: 0.4815735251590515 and parameters: {'max_depth': 5, 'learning_rate': 0.02145143640425376, 'n_estimators': 271, 'min_child_weight': 8, 'gamma': 2.57255037718783e-07, 'subsample': 0.2575610914262967, 'colsample_bytree': 0.23781132178263786, 'reg_alpha': 4.6004309353665697e-07, 'reg_lambda': 9.540535720570685e-06}. Best is trial 85 with value: 0.5551666719907998.\u001b[0m\n",
            "\u001b[32m[I 2023-05-09 07:57:33,723]\u001b[0m Trial 139 finished with value: 0.2841880341880342 and parameters: {'max_depth': 9, 'learning_rate': 0.013112721412285306, 'n_estimators': 480, 'min_child_weight': 10, 'gamma': 4.073698890178564e-07, 'subsample': 0.0005802004685389279, 'colsample_bytree': 0.9849157741581271, 'reg_alpha': 8.956120509910014e-06, 'reg_lambda': 5.515962974537363e-06}. Best is trial 85 with value: 0.5551666719907998.\u001b[0m\n",
            "\u001b[32m[I 2023-05-09 07:57:39,346]\u001b[0m Trial 140 finished with value: 0.4572875008228827 and parameters: {'max_depth': 8, 'learning_rate': 0.009464949331370978, 'n_estimators': 594, 'min_child_weight': 9, 'gamma': 5.382169776988656e-06, 'subsample': 0.14497952742010178, 'colsample_bytree': 0.40746152866290497, 'reg_alpha': 1.7638645266580495e-06, 'reg_lambda': 2.2160166993568128e-05}. Best is trial 85 with value: 0.5551666719907998.\u001b[0m\n",
            "\u001b[32m[I 2023-05-09 07:57:41,979]\u001b[0m Trial 141 finished with value: 0.5141182413600892 and parameters: {'max_depth': 9, 'learning_rate': 0.015322512484146416, 'n_estimators': 533, 'min_child_weight': 9, 'gamma': 5.8870677295771006e-08, 'subsample': 0.11804839258182162, 'colsample_bytree': 0.6790401568579095, 'reg_alpha': 6.733452463713265e-07, 'reg_lambda': 1.620361645340827e-05}. Best is trial 85 with value: 0.5551666719907998.\u001b[0m\n",
            "\u001b[32m[I 2023-05-09 07:57:44,390]\u001b[0m Trial 142 finished with value: 0.5374087261422787 and parameters: {'max_depth': 9, 'learning_rate': 0.014441570151892149, 'n_estimators': 524, 'min_child_weight': 9, 'gamma': 1.3938531271405832e-07, 'subsample': 0.08074576468332839, 'colsample_bytree': 0.9564980856189703, 'reg_alpha': 8.356373745601777e-07, 'reg_lambda': 9.574131615753849e-06}. Best is trial 85 with value: 0.5551666719907998.\u001b[0m\n",
            "\u001b[32m[I 2023-05-09 07:57:46,388]\u001b[0m Trial 143 finished with value: 0.501910778175313 and parameters: {'max_depth': 1, 'learning_rate': 0.01162321724732668, 'n_estimators': 568, 'min_child_weight': 9, 'gamma': 7.861401586126516e-07, 'subsample': 0.05741733957285662, 'colsample_bytree': 0.7067132623677985, 'reg_alpha': 9.891610708883123e-07, 'reg_lambda': 3.741626635599768e-06}. Best is trial 85 with value: 0.5551666719907998.\u001b[0m\n",
            "\u001b[32m[I 2023-05-09 07:57:54,920]\u001b[0m Trial 144 finished with value: 0.49702703976601037 and parameters: {'max_depth': 9, 'learning_rate': 0.013899977197414344, 'n_estimators': 459, 'min_child_weight': 9, 'gamma': 1.579767612839871e-07, 'subsample': 0.08339077215690449, 'colsample_bytree': 0.4278946563657758, 'reg_alpha': 3.96485297951859e-06, 'reg_lambda': 7.361329921883402e-06}. Best is trial 85 with value: 0.5551666719907998.\u001b[0m\n",
            "\u001b[32m[I 2023-05-09 07:57:55,816]\u001b[0m Trial 145 finished with value: 0.48537660256410253 and parameters: {'max_depth': 16, 'learning_rate': 0.017592597690929183, 'n_estimators': 92, 'min_child_weight': 8, 'gamma': 1.9616011237189428e-07, 'subsample': 0.18272984167081532, 'colsample_bytree': 0.9950244784386968, 'reg_alpha': 3.416051315343549e-07, 'reg_lambda': 8.464080349017777e-05}. Best is trial 85 with value: 0.5551666719907998.\u001b[0m\n",
            "\u001b[32m[I 2023-05-09 07:57:57,492]\u001b[0m Trial 146 finished with value: 0.2916666666666667 and parameters: {'max_depth': 10, 'learning_rate': 0.008236717979941448, 'n_estimators': 520, 'min_child_weight': 10, 'gamma': 7.935391590448069e-08, 'subsample': 0.025837392464639015, 'colsample_bytree': 0.10990687037128634, 'reg_alpha': 1.1964776058370178e-07, 'reg_lambda': 2.3676173343804756e-07}. Best is trial 85 with value: 0.5551666719907998.\u001b[0m\n",
            "\u001b[32m[I 2023-05-09 07:58:02,342]\u001b[0m Trial 147 finished with value: 0.3494047619047619 and parameters: {'max_depth': 8, 'learning_rate': 0.023116684081006623, 'n_estimators': 622, 'min_child_weight': 9, 'gamma': 1.5557487367023423e-06, 'subsample': 0.4062088327896023, 'colsample_bytree': 0.3056153939291949, 'reg_alpha': 5.018001617333675e-07, 'reg_lambda': 7.98613971699366e-08}. Best is trial 85 with value: 0.5551666719907998.\u001b[0m\n",
            "\u001b[32m[I 2023-05-09 07:58:06,755]\u001b[0m Trial 148 finished with value: 0.4822398764853033 and parameters: {'max_depth': 7, 'learning_rate': 0.011347479740594392, 'n_estimators': 504, 'min_child_weight': 8, 'gamma': 6.122186162161044e-07, 'subsample': 0.04995581996369301, 'colsample_bytree': 0.5137229407017184, 'reg_alpha': 1.6318404521238339e-06, 'reg_lambda': 2.19235048997575e-06}. Best is trial 85 with value: 0.5551666719907998.\u001b[0m\n",
            "\u001b[32m[I 2023-05-09 07:58:09,224]\u001b[0m Trial 149 finished with value: 0.5009147697540555 and parameters: {'max_depth': 14, 'learning_rate': 0.01949363198168083, 'n_estimators': 668, 'min_child_weight': 9, 'gamma': 7.669277248809076e-06, 'subsample': 0.0896525155073842, 'colsample_bytree': 0.2042636167261462, 'reg_alpha': 8.111110432277551e-07, 'reg_lambda': 3.312229786917229e-05}. Best is trial 85 with value: 0.5551666719907998.\u001b[0m\n",
            "\u001b[32m[I 2023-05-09 07:58:12,256]\u001b[0m Trial 150 finished with value: 0.4389690170940171 and parameters: {'max_depth': 6, 'learning_rate': 0.016010804822386857, 'n_estimators': 416, 'min_child_weight': 10, 'gamma': 1.2875305185713345e-05, 'subsample': 0.24068670620642077, 'colsample_bytree': 0.7075037174806487, 'reg_alpha': 2.459306024648518e-07, 'reg_lambda': 1.0778651705207919e-05}. Best is trial 85 with value: 0.5551666719907998.\u001b[0m\n",
            "\u001b[32m[I 2023-05-09 07:58:14,640]\u001b[0m Trial 151 finished with value: 0.5204847236097236 and parameters: {'max_depth': 9, 'learning_rate': 0.01430708026882935, 'n_estimators': 553, 'min_child_weight': 9, 'gamma': 1.2794318719825345e-07, 'subsample': 0.0786682276519163, 'colsample_bytree': 0.9955277462187061, 'reg_alpha': 7.27323189055544e-07, 'reg_lambda': 7.634284932407477e-06}. Best is trial 85 with value: 0.5551666719907998.\u001b[0m\n",
            "\u001b[32m[I 2023-05-09 07:58:17,337]\u001b[0m Trial 152 finished with value: 0.5317651098901099 and parameters: {'max_depth': 9, 'learning_rate': 0.012712277050242735, 'n_estimators': 555, 'min_child_weight': 9, 'gamma': 2.9866543930837864e-07, 'subsample': 0.06952495797965161, 'colsample_bytree': 0.5364436265471693, 'reg_alpha': 9.551579594152105e-07, 'reg_lambda': 5.168966342269156e-06}. Best is trial 85 with value: 0.5551666719907998.\u001b[0m\n",
            "\u001b[32m[I 2023-05-09 07:58:20,957]\u001b[0m Trial 153 finished with value: 0.4655121664050236 and parameters: {'max_depth': 9, 'learning_rate': 0.013193568447990028, 'n_estimators': 484, 'min_child_weight': 9, 'gamma': 1.2185572071773995e-07, 'subsample': 0.04105777446453064, 'colsample_bytree': 0.5940847692193231, 'reg_alpha': 1.1639933426135623e-06, 'reg_lambda': 5.706914910958918e-06}. Best is trial 85 with value: 0.5551666719907998.\u001b[0m\n",
            "\u001b[32m[I 2023-05-09 07:58:23,506]\u001b[0m Trial 154 finished with value: 0.5041042412045319 and parameters: {'max_depth': 10, 'learning_rate': 0.00998115794078875, 'n_estimators': 565, 'min_child_weight': 9, 'gamma': 3.9611788901381653e-07, 'subsample': 0.1265900535471302, 'colsample_bytree': 0.37666266193649056, 'reg_alpha': 2.370951699606487e-06, 'reg_lambda': 2.0865632483830888e-05}. Best is trial 85 with value: 0.5551666719907998.\u001b[0m\n",
            "\u001b[32m[I 2023-05-09 07:58:25,314]\u001b[0m Trial 155 finished with value: 0.48785286404771705 and parameters: {'max_depth': 9, 'learning_rate': 0.012238697128116496, 'n_estimators': 552, 'min_child_weight': 9, 'gamma': 2.165820662999296e-07, 'subsample': 0.029769836296545085, 'colsample_bytree': 0.9962173918248965, 'reg_alpha': 4.416947358405802e-07, 'reg_lambda': 1.21809832704867e-05}. Best is trial 85 with value: 0.5551666719907998.\u001b[0m\n",
            "\u001b[32m[I 2023-05-09 07:58:27,501]\u001b[0m Trial 156 finished with value: 0.2841880341880342 and parameters: {'max_depth': 8, 'learning_rate': 0.00876157741857038, 'n_estimators': 697, 'min_child_weight': 10, 'gamma': 3.0565274079290487e-07, 'subsample': 0.00020580045755819347, 'colsample_bytree': 0.717349567395894, 'reg_alpha': 9.683511191479169e-07, 'reg_lambda': 7.831426411559914e-06}. Best is trial 85 with value: 0.5551666719907998.\u001b[0m\n",
            "\u001b[32m[I 2023-05-09 07:58:32,865]\u001b[0m Trial 157 finished with value: 0.4879305146073438 and parameters: {'max_depth': 10, 'learning_rate': 0.013970375717564973, 'n_estimators': 726, 'min_child_weight': 8, 'gamma': 1.1133583891325596e-07, 'subsample': 0.07052794721050078, 'colsample_bytree': 0.48717838671594427, 'reg_alpha': 6.322302100462474e-07, 'reg_lambda': 9.704297731127968e-07}. Best is trial 85 with value: 0.5551666719907998.\u001b[0m\n",
            "\u001b[32m[I 2023-05-09 07:58:34,444]\u001b[0m Trial 158 finished with value: 0.2916666666666667 and parameters: {'max_depth': 7, 'learning_rate': 0.0066084133727064365, 'n_estimators': 523, 'min_child_weight': 9, 'gamma': 1.5535760751750982e-07, 'subsample': 0.015463740854629565, 'colsample_bytree': 0.034507245203171936, 'reg_alpha': 1.500247388587487e-06, 'reg_lambda': 1.6318256027621137e-05}. Best is trial 85 with value: 0.5551666719907998.\u001b[0m\n",
            "\u001b[32m[I 2023-05-09 07:58:36,697]\u001b[0m Trial 159 finished with value: 0.506390712945591 and parameters: {'max_depth': 8, 'learning_rate': 0.010597998088960723, 'n_estimators': 440, 'min_child_weight': 9, 'gamma': 5.856245571721042e-08, 'subsample': 0.15440323248475923, 'colsample_bytree': 0.3649950716051838, 'reg_alpha': 2.7273730976744703e-07, 'reg_lambda': 4.780254247601748e-05}. Best is trial 85 with value: 0.5551666719907998.\u001b[0m\n",
            "\u001b[32m[I 2023-05-09 07:58:38,630]\u001b[0m Trial 160 finished with value: 0.4802312692937693 and parameters: {'max_depth': 9, 'learning_rate': 0.01886666868984336, 'n_estimators': 500, 'min_child_weight': 8, 'gamma': 3.971610417817303e-08, 'subsample': 0.053325441747593474, 'colsample_bytree': 0.7395588069625393, 'reg_alpha': 1.5038749737785638e-07, 'reg_lambda': 2.6724181529361137e-05}. Best is trial 85 with value: 0.5551666719907998.\u001b[0m\n",
            "\u001b[32m[I 2023-05-09 07:58:41,165]\u001b[0m Trial 161 finished with value: 0.5021143291232577 and parameters: {'max_depth': 11, 'learning_rate': 0.01590513888771916, 'n_estimators': 577, 'min_child_weight': 9, 'gamma': 2.597983777156739e-07, 'subsample': 0.1009834614587983, 'colsample_bytree': 0.5501590971181046, 'reg_alpha': 6.103651870103903e-07, 'reg_lambda': 1.204527220764303e-07}. Best is trial 85 with value: 0.5551666719907998.\u001b[0m\n",
            "\u001b[32m[I 2023-05-09 07:58:45,861]\u001b[0m Trial 162 finished with value: 0.5225721153846155 and parameters: {'max_depth': 9, 'learning_rate': 0.014078827518829972, 'n_estimators': 598, 'min_child_weight': 9, 'gamma': 4.869852590424671e-07, 'subsample': 0.07144309327775988, 'colsample_bytree': 0.266034096005917, 'reg_alpha': 4.153081956560304e-07, 'reg_lambda': 4.294258221367935e-06}. Best is trial 85 with value: 0.5551666719907998.\u001b[0m\n",
            "\u001b[32m[I 2023-05-09 07:58:48,933]\u001b[0m Trial 163 finished with value: 0.480170011148272 and parameters: {'max_depth': 9, 'learning_rate': 0.012195213749923576, 'n_estimators': 544, 'min_child_weight': 9, 'gamma': 5.56109910233496e-07, 'subsample': 0.20929209239153979, 'colsample_bytree': 0.29783591604580584, 'reg_alpha': 3.640681488894235e-07, 'reg_lambda': 5.589819031347222e-06}. Best is trial 85 with value: 0.5551666719907998.\u001b[0m\n",
            "\u001b[32m[I 2023-05-09 07:58:50,839]\u001b[0m Trial 164 finished with value: 0.2841880341880342 and parameters: {'max_depth': 8, 'learning_rate': 0.007382918745646439, 'n_estimators': 600, 'min_child_weight': 9, 'gamma': 3.7172691138751696e-07, 'subsample': 3.07519707543681e-05, 'colsample_bytree': 0.7367333281538423, 'reg_alpha': 1.2989651700693521e-06, 'reg_lambda': 3.061442292382096e-06}. Best is trial 85 with value: 0.5551666719907998.\u001b[0m\n",
            "\u001b[32m[I 2023-05-09 07:58:52,918]\u001b[0m Trial 165 finished with value: 0.528218482905983 and parameters: {'max_depth': 9, 'learning_rate': 0.013880756371593906, 'n_estimators': 524, 'min_child_weight': 9, 'gamma': 8.746665725052198e-08, 'subsample': 0.06134945005723218, 'colsample_bytree': 0.9808474544649034, 'reg_alpha': 8.442413823000654e-07, 'reg_lambda': 8.521721979616229e-06}. Best is trial 85 with value: 0.5551666719907998.\u001b[0m\n",
            "\u001b[32m[I 2023-05-09 07:58:54,614]\u001b[0m Trial 166 finished with value: 0.46967147435897433 and parameters: {'max_depth': 10, 'learning_rate': 0.010086837000243673, 'n_estimators': 466, 'min_child_weight': 9, 'gamma': 9.4179003936386e-08, 'subsample': 0.060604697547319925, 'colsample_bytree': 0.5183253545505464, 'reg_alpha': 3.683511068316292e-07, 'reg_lambda': 2.3293950957946497e-06}. Best is trial 85 with value: 0.5551666719907998.\u001b[0m\n",
            "\u001b[32m[I 2023-05-09 07:58:55,292]\u001b[0m Trial 167 finished with value: 0.5006543482777727 and parameters: {'max_depth': 7, 'learning_rate': 0.01786466475431317, 'n_estimators': 177, 'min_child_weight': 10, 'gamma': 8.953289648099013e-08, 'subsample': 0.03731153137165717, 'colsample_bytree': 0.9905578556531582, 'reg_alpha': 2.0894973574218723e-07, 'reg_lambda': 4.512102314902517e-06}. Best is trial 85 with value: 0.5551666719907998.\u001b[0m\n",
            "\u001b[32m[I 2023-05-09 07:59:00,128]\u001b[0m Trial 168 finished with value: 0.48664820234113715 and parameters: {'max_depth': 6, 'learning_rate': 0.01170646492578405, 'n_estimators': 655, 'min_child_weight': 9, 'gamma': 2.0562975901871408e-07, 'subsample': 0.06704324998508537, 'colsample_bytree': 8.768566991619942e-05, 'reg_alpha': 2.7011180851401926e-06, 'reg_lambda': 7.45104726403587e-06}. Best is trial 85 with value: 0.5551666719907998.\u001b[0m\n",
            "\u001b[32m[I 2023-05-09 07:59:01,828]\u001b[0m Trial 169 finished with value: 0.49816069347319347 and parameters: {'max_depth': 8, 'learning_rate': 0.025437704847545664, 'n_estimators': 559, 'min_child_weight': 8, 'gamma': 1.562346428512271e-07, 'subsample': 0.023929130791678722, 'colsample_bytree': 0.3941134074449637, 'reg_alpha': 5.156050808402922e-07, 'reg_lambda': 3.8959538786021896e-08}. Best is trial 85 with value: 0.5551666719907998.\u001b[0m\n",
            "\u001b[32m[I 2023-05-09 07:59:04,083]\u001b[0m Trial 170 finished with value: 0.4771760177904705 and parameters: {'max_depth': 9, 'learning_rate': 0.02191625510237749, 'n_estimators': 618, 'min_child_weight': 9, 'gamma': 3.0833581785394004e-05, 'subsample': 0.09468445361814753, 'colsample_bytree': 0.16955805626144566, 'reg_alpha': 9.577943203036595e-07, 'reg_lambda': 1.2836198849233546e-06}. Best is trial 85 with value: 0.5551666719907998.\u001b[0m\n",
            "\u001b[32m[I 2023-05-09 07:59:07,233]\u001b[0m Trial 171 finished with value: 0.49172079132108204 and parameters: {'max_depth': 9, 'learning_rate': 0.013965773673164287, 'n_estimators': 526, 'min_child_weight': 9, 'gamma': 4.127182435821705e-06, 'subsample': 0.1374663940867573, 'colsample_bytree': 0.9903040221871928, 'reg_alpha': 8.948264871240423e-07, 'reg_lambda': 1.1292982200174618e-05}. Best is trial 85 with value: 0.5551666719907998.\u001b[0m\n",
            "\u001b[32m[I 2023-05-09 07:59:12,410]\u001b[0m Trial 172 finished with value: 0.5126898690078039 and parameters: {'max_depth': 9, 'learning_rate': 0.015593583681044286, 'n_estimators': 585, 'min_child_weight': 9, 'gamma': 2.171283464281513e-06, 'subsample': 0.1068337870150664, 'colsample_bytree': 0.5855098005925151, 'reg_alpha': 6.936602350281986e-07, 'reg_lambda': 9.203558371766177e-06}. Best is trial 85 with value: 0.5551666719907998.\u001b[0m\n",
            "\u001b[32m[I 2023-05-09 07:59:13,720]\u001b[0m Trial 173 finished with value: 0.45850961538461543 and parameters: {'max_depth': 10, 'learning_rate': 0.01359115040312972, 'n_estimators': 363, 'min_child_weight': 9, 'gamma': 4.269066745488557e-07, 'subsample': 0.04502611051604683, 'colsample_bytree': 0.6585267207691664, 'reg_alpha': 1.6814469224404972e-06, 'reg_lambda': 1.7011150935364857e-05}. Best is trial 85 with value: 0.5551666719907998.\u001b[0m\n",
            "\u001b[32m[I 2023-05-09 07:59:16,187]\u001b[0m Trial 174 finished with value: 0.4140355300187617 and parameters: {'max_depth': 8, 'learning_rate': 0.010737446385030614, 'n_estimators': 536, 'min_child_weight': 9, 'gamma': 1.0250366764258043e-05, 'subsample': 0.18084094205526763, 'colsample_bytree': 0.00286675795580472, 'reg_alpha': 4.4940865212946987e-07, 'reg_lambda': 6.209194231900551e-08}. Best is trial 85 with value: 0.5551666719907998.\u001b[0m\n",
            "\u001b[32m[I 2023-05-09 07:59:19,012]\u001b[0m Trial 175 finished with value: 0.4038525812422871 and parameters: {'max_depth': 15, 'learning_rate': 0.01709519971525498, 'n_estimators': 507, 'min_child_weight': 9, 'gamma': 7.099885101370882e-08, 'subsample': 0.30801593656327275, 'colsample_bytree': 0.022577661192312536, 'reg_alpha': 2.0303123411817598e-06, 'reg_lambda': 6.146489902041171e-06}. Best is trial 85 with value: 0.5551666719907998.\u001b[0m\n",
            "\u001b[32m[I 2023-05-09 07:59:20,312]\u001b[0m Trial 176 finished with value: 0.4601380226380226 and parameters: {'max_depth': 10, 'learning_rate': 0.012421012795094187, 'n_estimators': 333, 'min_child_weight': 9, 'gamma': 6.737288403673845e-07, 'subsample': 0.07897049048842134, 'colsample_bytree': 0.3312259966019108, 'reg_alpha': 2.748602443823457e-05, 'reg_lambda': 4.268723224560825e-06}. Best is trial 85 with value: 0.5551666719907998.\u001b[0m\n",
            "\u001b[32m[I 2023-05-09 07:59:23,830]\u001b[0m Trial 177 finished with value: 0.4533331252081252 and parameters: {'max_depth': 9, 'learning_rate': 0.009035085503671074, 'n_estimators': 477, 'min_child_weight': 10, 'gamma': 1.6885573186677594e-05, 'subsample': 0.050122905686079494, 'colsample_bytree': 0.48009961402188306, 'reg_alpha': 2.8267785769219495e-07, 'reg_lambda': 1.1763314572420857e-05}. Best is trial 85 with value: 0.5551666719907998.\u001b[0m\n",
            "\u001b[32m[I 2023-05-09 07:59:26,219]\u001b[0m Trial 178 finished with value: 0.2841880341880342 and parameters: {'max_depth': 7, 'learning_rate': 0.019844480409915842, 'n_estimators': 553, 'min_child_weight': 9, 'gamma': 3.005648414967916e-08, 'subsample': 0.002117519479225278, 'colsample_bytree': 0.7455504236083227, 'reg_alpha': 1.115671796374188e-06, 'reg_lambda': 6.958746819795322e-05}. Best is trial 85 with value: 0.5551666719907998.\u001b[0m\n",
            "\u001b[32m[I 2023-05-09 07:59:30,133]\u001b[0m Trial 179 finished with value: 0.3318586333878887 and parameters: {'max_depth': 8, 'learning_rate': 0.014947153080031441, 'n_estimators': 763, 'min_child_weight': 5, 'gamma': 2.4532606778570206e-07, 'subsample': 0.16478337103796667, 'colsample_bytree': 0.0004973352208544566, 'reg_alpha': 7.058123699375711e-07, 'reg_lambda': 3.5998497497473966e-05}. Best is trial 85 with value: 0.5551666719907998.\u001b[0m\n",
            "\u001b[32m[I 2023-05-09 07:59:32,263]\u001b[0m Trial 180 finished with value: 0.49782509157509164 and parameters: {'max_depth': 9, 'learning_rate': 0.008453093053069242, 'n_estimators': 496, 'min_child_weight': 8, 'gamma': 1.222235046628688e-07, 'subsample': 0.10664155033506542, 'colsample_bytree': 0.22907044589286726, 'reg_alpha': 3.8364915855853436e-07, 'reg_lambda': 3.7187009677066836e-07}. Best is trial 85 with value: 0.5551666719907998.\u001b[0m\n",
            "\u001b[32m[I 2023-05-09 07:59:34,389]\u001b[0m Trial 181 finished with value: 0.5290887477227615 and parameters: {'max_depth': 10, 'learning_rate': 0.014394611938395828, 'n_estimators': 584, 'min_child_weight': 9, 'gamma': 1.1502395191108511e-06, 'subsample': 0.07406760309006759, 'colsample_bytree': 0.2650339945231667, 'reg_alpha': 6.70999806596723e-07, 'reg_lambda': 3.3044015651908337e-06}. Best is trial 85 with value: 0.5551666719907998.\u001b[0m\n",
            "\u001b[32m[I 2023-05-09 07:59:39,877]\u001b[0m Trial 182 finished with value: 0.5086829957832865 and parameters: {'max_depth': 10, 'learning_rate': 0.01270161474876992, 'n_estimators': 594, 'min_child_weight': 9, 'gamma': 1.0678027085803186e-06, 'subsample': 0.07644790087083912, 'colsample_bytree': 0.9852237588718407, 'reg_alpha': 5.484105731060092e-07, 'reg_lambda': 3.2471503575553278e-06}. Best is trial 85 with value: 0.5551666719907998.\u001b[0m\n",
            "\u001b[32m[I 2023-05-09 07:59:41,539]\u001b[0m Trial 183 finished with value: 0.49748577315541603 and parameters: {'max_depth': 10, 'learning_rate': 0.01662833722542297, 'n_estimators': 524, 'min_child_weight': 9, 'gamma': 2.8920027498594756e-06, 'subsample': 0.033969227652615445, 'colsample_bytree': 0.4629190729254755, 'reg_alpha': 8.670940690536195e-07, 'reg_lambda': 7.563879456669827e-06}. Best is trial 85 with value: 0.5551666719907998.\u001b[0m\n",
            "\u001b[32m[I 2023-05-09 07:59:43,848]\u001b[0m Trial 184 finished with value: 0.4806089743589743 and parameters: {'max_depth': 9, 'learning_rate': 0.010680171311057796, 'n_estimators': 571, 'min_child_weight': 9, 'gamma': 2.3023942855789774e-05, 'subsample': 0.12092875409100015, 'colsample_bytree': 0.011736590231391824, 'reg_alpha': 1.9974045045037383e-07, 'reg_lambda': 1.7750489744175031e-06}. Best is trial 85 with value: 0.5551666719907998.\u001b[0m\n",
            "\u001b[32m[I 2023-05-09 07:59:45,062]\u001b[0m Trial 185 finished with value: 0.2841880341880342 and parameters: {'max_depth': 8, 'learning_rate': 0.013637526297075797, 'n_estimators': 401, 'min_child_weight': 9, 'gamma': 1.8067600627515266e-06, 'subsample': 0.006385450838222196, 'colsample_bytree': 0.0812467419722491, 'reg_alpha': 1.173831895611953e-06, 'reg_lambda': 4.912956390154024e-06}. Best is trial 85 with value: 0.5551666719907998.\u001b[0m\n",
            "\u001b[32m[I 2023-05-09 07:59:47,177]\u001b[0m Trial 186 finished with value: 0.5026999721293199 and parameters: {'max_depth': 6, 'learning_rate': 0.019891799341290064, 'n_estimators': 628, 'min_child_weight': 9, 'gamma': 5.316070506455011e-06, 'subsample': 0.06196444251039336, 'colsample_bytree': 0.2926885808448441, 'reg_alpha': 3.1284734775817057e-07, 'reg_lambda': 0.00011526552360969633}. Best is trial 85 with value: 0.5551666719907998.\u001b[0m\n",
            "\u001b[32m[I 2023-05-09 07:59:52,465]\u001b[0m Trial 187 finished with value: 0.44980169529108205 and parameters: {'max_depth': 11, 'learning_rate': 0.014736348774419214, 'n_estimators': 542, 'min_child_weight': 9, 'gamma': 4.977629847591305e-05, 'subsample': 0.23706141541686435, 'colsample_bytree': 5.6610794185169155e-05, 'reg_alpha': 5.322309432161155e-07, 'reg_lambda': 1.7681608605175075e-05}. Best is trial 85 with value: 0.5551666719907998.\u001b[0m\n",
            "\u001b[32m[I 2023-05-09 07:59:54,948]\u001b[0m Trial 188 finished with value: 0.2841880341880342 and parameters: {'max_depth': 10, 'learning_rate': 0.03697511536065715, 'n_estimators': 279, 'min_child_weight': 9, 'gamma': 7.541953781423197e-07, 'subsample': 0.011005093057666655, 'colsample_bytree': 0.0001325762651940972, 'reg_alpha': 3.221903167743279e-06, 'reg_lambda': 0.0001996757249196194}. Best is trial 85 with value: 0.5551666719907998.\u001b[0m\n",
            "\u001b[32m[I 2023-05-09 07:59:57,097]\u001b[0m Trial 189 finished with value: 0.5412930456171736 and parameters: {'max_depth': 9, 'learning_rate': 0.011360880935705277, 'n_estimators': 516, 'min_child_weight': 10, 'gamma': 0.00019274487739840947, 'subsample': 0.08822914581127496, 'colsample_bytree': 0.6995602589462332, 'reg_alpha': 1.6353579995408145e-06, 'reg_lambda': 7.989765504033669e-06}. Best is trial 85 with value: 0.5551666719907998.\u001b[0m\n",
            "\u001b[32m[I 2023-05-09 07:59:58,672]\u001b[0m Trial 190 finished with value: 0.44784026535480026 and parameters: {'max_depth': 9, 'learning_rate': 0.010994794978515488, 'n_estimators': 510, 'min_child_weight': 10, 'gamma': 0.00010174231787843529, 'subsample': 0.047039270108922955, 'colsample_bytree': 0.12625611204944473, 'reg_alpha': 2.2888857907376028e-06, 'reg_lambda': 6.404875659881241e-07}. Best is trial 85 with value: 0.5551666719907998.\u001b[0m\n",
            "\u001b[32m[I 2023-05-09 08:00:00,895]\u001b[0m Trial 191 finished with value: 0.5231971153846154 and parameters: {'max_depth': 9, 'learning_rate': 0.012379858467137256, 'n_estimators': 532, 'min_child_weight': 10, 'gamma': 0.0002753918075374802, 'subsample': 0.08362481197587378, 'colsample_bytree': 0.7239670852112529, 'reg_alpha': 1.3945433211742521e-06, 'reg_lambda': 9.165169199597205e-06}. Best is trial 85 with value: 0.5551666719907998.\u001b[0m\n",
            "\u001b[32m[I 2023-05-09 08:00:07,847]\u001b[0m Trial 192 finished with value: 0.5091032870638135 and parameters: {'max_depth': 9, 'learning_rate': 0.011958576427343964, 'n_estimators': 560, 'min_child_weight': 10, 'gamma': 3.26775713218896e-07, 'subsample': 0.07996515865876534, 'colsample_bytree': 0.6581700785894772, 'reg_alpha': 1.7971802270246898e-06, 'reg_lambda': 6.857041794599762e-06}. Best is trial 85 with value: 0.5551666719907998.\u001b[0m\n",
            "\u001b[32m[I 2023-05-09 08:00:10,960]\u001b[0m Trial 193 finished with value: 0.5010380244755245 and parameters: {'max_depth': 8, 'learning_rate': 0.009259797813947833, 'n_estimators': 811, 'min_child_weight': 10, 'gamma': 0.0005111887917479467, 'subsample': 0.0906698683650331, 'colsample_bytree': 0.448662337146052, 'reg_alpha': 1.5289032713551342e-06, 'reg_lambda': 3.0391942076654718e-06}. Best is trial 85 with value: 0.5551666719907998.\u001b[0m\n",
            "\u001b[32m[I 2023-05-09 08:00:13,550]\u001b[0m Trial 194 finished with value: 0.4969265820876846 and parameters: {'max_depth': 9, 'learning_rate': 0.01696042039144708, 'n_estimators': 492, 'min_child_weight': 10, 'gamma': 0.00020716922976767846, 'subsample': 0.14680368803399904, 'colsample_bytree': 0.7262246432820944, 'reg_alpha': 1.1875063118413398e-06, 'reg_lambda': 4.873068319623101e-06}. Best is trial 85 with value: 0.5551666719907998.\u001b[0m\n",
            "\u001b[32m[I 2023-05-09 08:00:18,189]\u001b[0m Trial 195 finished with value: 0.5143429487179487 and parameters: {'max_depth': 10, 'learning_rate': 0.007795594790364599, 'n_estimators': 603, 'min_child_weight': 10, 'gamma': 0.00019635872950686574, 'subsample': 0.0597595643016668, 'colsample_bytree': 0.35202045069835336, 'reg_alpha': 3.856324137223244e-06, 'reg_lambda': 9.550395204127314e-06}. Best is trial 85 with value: 0.5551666719907998.\u001b[0m\n",
            "\u001b[32m[I 2023-05-09 08:00:19,829]\u001b[0m Trial 196 finished with value: 0.48615689865689865 and parameters: {'max_depth': 6, 'learning_rate': 0.013057774861415967, 'n_estimators': 519, 'min_child_weight': 10, 'gamma': 4.641722053580196e-08, 'subsample': 0.03197148601817648, 'colsample_bytree': 0.5503950115861912, 'reg_alpha': 8.391096294875325e-07, 'reg_lambda': 1.3429864082042505e-05}. Best is trial 85 with value: 0.5551666719907998.\u001b[0m\n",
            "\u001b[32m[I 2023-05-09 08:00:22,430]\u001b[0m Trial 197 finished with value: 0.5400890896893804 and parameters: {'max_depth': 7, 'learning_rate': 0.010608547365793678, 'n_estimators': 457, 'min_child_weight': 10, 'gamma': 0.0003265304514357972, 'subsample': 0.15055367606029688, 'colsample_bytree': 0.780526694461274, 'reg_alpha': 5.829858201986555e-07, 'reg_lambda': 2.40469214139486e-05}. Best is trial 85 with value: 0.5551666719907998.\u001b[0m\n",
            "\u001b[32m[I 2023-05-09 08:00:25,024]\u001b[0m Trial 198 finished with value: 0.4256227106227106 and parameters: {'max_depth': 7, 'learning_rate': 0.009698478381964104, 'n_estimators': 581, 'min_child_weight': 10, 'gamma': 0.0008567664682769353, 'subsample': 0.18125201731745763, 'colsample_bytree': 0.000276768154087165, 'reg_alpha': 1.0417400281993442e-07, 'reg_lambda': 2.038077457330828e-05}. Best is trial 85 with value: 0.5551666719907998.\u001b[0m\n",
            "\u001b[32m[I 2023-05-09 08:00:30,993]\u001b[0m Trial 199 finished with value: 0.4366249156545209 and parameters: {'max_depth': 14, 'learning_rate': 0.006564780591986127, 'n_estimators': 467, 'min_child_weight': 10, 'gamma': 0.0002713537348713263, 'subsample': 0.3571617955538908, 'colsample_bytree': 0.25668831847026075, 'reg_alpha': 4.1119895492444535e-07, 'reg_lambda': 5.3488992569209516e-05}. Best is trial 85 with value: 0.5551666719907998.\u001b[0m\n"
          ]
        }
      ]
    },
    {
      "cell_type": "code",
      "source": [
        "# 학습 결과 출력\n",
        "print(study.best_value)\n",
        "print(study.best_params)"
      ],
      "metadata": {
        "id": "D4gaEv1-8Rnp",
        "colab": {
          "base_uri": "https://localhost:8080/"
        },
        "outputId": "90c6fd8c-a47e-4404-ae1b-a27cd4072fcf"
      },
      "id": "D4gaEv1-8Rnp",
      "execution_count": 26,
      "outputs": [
        {
          "output_type": "stream",
          "name": "stdout",
          "text": [
            "0.5551666719907998\n",
            "{'max_depth': 9, 'learning_rate': 0.014197461926482859, 'n_estimators': 539, 'min_child_weight': 9, 'gamma': 7.702366029175775e-07, 'subsample': 0.11283412694057855, 'colsample_bytree': 0.9884290372881207, 'reg_alpha': 1.0081520700930986e-06, 'reg_lambda': 1.1744071257768952e-05}\n"
          ]
        }
      ]
    },
    {
      "cell_type": "code",
      "source": [
        "tscv=TimeSeriesSplit()\n",
        "TimeSeriesSplit(n_splits=4)\n",
        "\n",
        "for i, (train_index, test_index) in enumerate(tscv.split(x)):\n",
        "    x_train, y_train = x.iloc[train_index], y.iloc[train_index] #train data 지정\n",
        "    x_test, y_test = x.iloc[test_index], y.iloc[test_index] # test data 지정\n",
        "\n",
        "    classes_weights = class_weight.compute_sample_weight(\n",
        "        class_weight='balanced', y=y_train) # 클래스 불균형 개선\n",
        "    \n",
        "    xgb_model=xgb.XGBClassifier(**study.best_params, random_state = 42)\n",
        "    xgb_model.fit(x_train, y_train, sample_weight=classes_weights)\n",
        "\n",
        "    y_pred = xgb_model.predict(x_test)\n",
        "    print(f\"Fold {i+1} - Accuracy: {accuracy_score(y_test, y_pred)}\")\n",
        "    print(f\"Fold {i+1} - f1_score: {f1_score(y_test, y_pred, average='weighted')}\")\n",
        "    print()"
      ],
      "metadata": {
        "id": "siddZmFv8U0M",
        "colab": {
          "base_uri": "https://localhost:8080/"
        },
        "outputId": "132825f5-5cf0-48f0-d1c7-d4e938ce5607"
      },
      "id": "siddZmFv8U0M",
      "execution_count": 27,
      "outputs": [
        {
          "output_type": "stream",
          "name": "stdout",
          "text": [
            "Fold 1 - Accuracy: 0.44017094017094016\n",
            "Fold 1 - f1_score: 0.44331087306361416\n",
            "\n",
            "Fold 2 - Accuracy: 0.5683760683760684\n",
            "Fold 2 - f1_score: 0.5953138521778183\n",
            "\n",
            "Fold 3 - Accuracy: 0.48717948717948717\n",
            "Fold 3 - f1_score: 0.532589289512993\n",
            "\n",
            "Fold 4 - Accuracy: 0.47435897435897434\n",
            "Fold 4 - f1_score: 0.5297278337599913\n",
            "\n",
            "Fold 5 - Accuracy: 0.7008547008547008\n",
            "Fold 5 - f1_score: 0.7115495645823515\n",
            "\n"
          ]
        }
      ]
    },
    {
      "cell_type": "code",
      "source": [
        "cm = confusion_matrix(y_test, y_pred)\n",
        "\n",
        "print(cm)\n",
        "print()\n",
        "print('전체 정확도 : ', accuracy_score(y_test, y_pred))\n",
        "print('전체 f1-score : ', f1_score(y_test, y_pred, average='weighted'))\n",
        "print()\n",
        "print('매수 정확도 : ', cm[0,0]/sum(cm[0]))\n",
        "print('매도 정확도 : ', cm[2,2]/sum(cm[2]))\n",
        "print('유지 정확도 : ', cm[1,1]/sum(cm[1]))\n",
        "print()\n",
        "print('매수 정밀도 : ', cm[0,0]/np.sum(cm, axis=0)[0])\n",
        "print('매도 정밀도 : ', cm[2,2]/np.sum(cm, axis=0)[2])"
      ],
      "metadata": {
        "colab": {
          "base_uri": "https://localhost:8080/"
        },
        "id": "OTz0-LHthkF2",
        "outputId": "93ceacb3-cbec-4f19-fbe9-94750954f11d"
      },
      "id": "OTz0-LHthkF2",
      "execution_count": 28,
      "outputs": [
        {
          "output_type": "stream",
          "name": "stdout",
          "text": [
            "[[ 23   7   2]\n",
            " [ 17 120  26]\n",
            " [  3  15  21]]\n",
            "\n",
            "전체 정확도 :  0.7008547008547008\n",
            "전체 f1-score :  0.7115495645823515\n",
            "\n",
            "매수 정확도 :  0.71875\n",
            "매도 정확도 :  0.5384615384615384\n",
            "유지 정확도 :  0.7361963190184049\n",
            "\n",
            "매수 정밀도 :  0.5348837209302325\n",
            "매도 정밀도 :  0.42857142857142855\n"
          ]
        }
      ]
    }
  ],
  "metadata": {
    "kernelspec": {
      "display_name": "Python 3 (ipykernel)",
      "language": "python",
      "name": "python3"
    },
    "language_info": {
      "codemirror_mode": {
        "name": "ipython",
        "version": 3
      },
      "file_extension": ".py",
      "mimetype": "text/x-python",
      "name": "python",
      "nbconvert_exporter": "python",
      "pygments_lexer": "ipython3",
      "version": "3.9.12"
    },
    "colab": {
      "provenance": [],
      "toc_visible": true,
      "gpuType": "T4"
    },
    "accelerator": "GPU",
    "gpuClass": "standard"
  },
  "nbformat": 4,
  "nbformat_minor": 5
}